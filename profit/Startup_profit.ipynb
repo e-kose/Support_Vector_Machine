{
 "cells": [
  {
   "cell_type": "code",
   "execution_count": 1,
   "metadata": {},
   "outputs": [],
   "source": [
    "import pandas as pd\n",
    "import numpy as np\n",
    "import matplotlib.pyplot as plt\n",
    "import seaborn as sns"
   ]
  },
  {
   "cell_type": "code",
   "execution_count": 2,
   "metadata": {},
   "outputs": [
    {
     "data": {
      "text/html": [
       "<div>\n",
       "<style scoped>\n",
       "    .dataframe tbody tr th:only-of-type {\n",
       "        vertical-align: middle;\n",
       "    }\n",
       "\n",
       "    .dataframe tbody tr th {\n",
       "        vertical-align: top;\n",
       "    }\n",
       "\n",
       "    .dataframe thead th {\n",
       "        text-align: right;\n",
       "    }\n",
       "</style>\n",
       "<table border=\"1\" class=\"dataframe\">\n",
       "  <thead>\n",
       "    <tr style=\"text-align: right;\">\n",
       "      <th></th>\n",
       "      <th>R&amp;D Spend</th>\n",
       "      <th>Administration</th>\n",
       "      <th>Marketing Spend</th>\n",
       "      <th>State</th>\n",
       "      <th>Profit</th>\n",
       "    </tr>\n",
       "  </thead>\n",
       "  <tbody>\n",
       "    <tr>\n",
       "      <th>0</th>\n",
       "      <td>165349.20</td>\n",
       "      <td>136897.80</td>\n",
       "      <td>471784.10</td>\n",
       "      <td>New York</td>\n",
       "      <td>192261.83</td>\n",
       "    </tr>\n",
       "    <tr>\n",
       "      <th>1</th>\n",
       "      <td>162597.70</td>\n",
       "      <td>151377.59</td>\n",
       "      <td>443898.53</td>\n",
       "      <td>California</td>\n",
       "      <td>191792.06</td>\n",
       "    </tr>\n",
       "    <tr>\n",
       "      <th>2</th>\n",
       "      <td>153441.51</td>\n",
       "      <td>101145.55</td>\n",
       "      <td>407934.54</td>\n",
       "      <td>Florida</td>\n",
       "      <td>191050.39</td>\n",
       "    </tr>\n",
       "    <tr>\n",
       "      <th>3</th>\n",
       "      <td>144372.41</td>\n",
       "      <td>118671.85</td>\n",
       "      <td>383199.62</td>\n",
       "      <td>New York</td>\n",
       "      <td>182901.99</td>\n",
       "    </tr>\n",
       "    <tr>\n",
       "      <th>4</th>\n",
       "      <td>142107.34</td>\n",
       "      <td>91391.77</td>\n",
       "      <td>366168.42</td>\n",
       "      <td>Florida</td>\n",
       "      <td>166187.94</td>\n",
       "    </tr>\n",
       "  </tbody>\n",
       "</table>\n",
       "</div>"
      ],
      "text/plain": [
       "   R&D Spend  Administration  Marketing Spend       State     Profit\n",
       "0  165349.20       136897.80        471784.10    New York  192261.83\n",
       "1  162597.70       151377.59        443898.53  California  191792.06\n",
       "2  153441.51       101145.55        407934.54     Florida  191050.39\n",
       "3  144372.41       118671.85        383199.62    New York  182901.99\n",
       "4  142107.34        91391.77        366168.42     Florida  166187.94"
      ]
     },
     "execution_count": 2,
     "metadata": {},
     "output_type": "execute_result"
    }
   ],
   "source": [
    "df = pd.read_csv(\"50_Startups .csv\")\n",
    "df.head()"
   ]
  },
  {
   "cell_type": "code",
   "execution_count": 3,
   "metadata": {},
   "outputs": [
    {
     "data": {
      "text/plain": [
       "R&D Spend          0\n",
       "Administration     0\n",
       "Marketing Spend    0\n",
       "State              0\n",
       "Profit             0\n",
       "dtype: int64"
      ]
     },
     "execution_count": 3,
     "metadata": {},
     "output_type": "execute_result"
    }
   ],
   "source": [
    "df.isnull().sum()"
   ]
  },
  {
   "cell_type": "code",
   "execution_count": 4,
   "metadata": {},
   "outputs": [
    {
     "data": {
      "text/plain": [
       "0"
      ]
     },
     "execution_count": 4,
     "metadata": {},
     "output_type": "execute_result"
    }
   ],
   "source": [
    "df.duplicated().sum()"
   ]
  },
  {
   "cell_type": "code",
   "execution_count": 5,
   "metadata": {},
   "outputs": [],
   "source": [
    "sayisal_sutunlar=[\"R&D Spend\",\"Administration\",\"Marketing Spend\",\"Profit\"]\n",
    "sayisal_olmayan=[\"State\"]"
   ]
  },
  {
   "cell_type": "code",
   "execution_count": 6,
   "metadata": {},
   "outputs": [
    {
     "name": "stdout",
     "output_type": "stream",
     "text": [
      "<class 'pandas.core.frame.DataFrame'>\n",
      "RangeIndex: 50 entries, 0 to 49\n",
      "Data columns (total 4 columns):\n",
      " #   Column           Non-Null Count  Dtype  \n",
      "---  ------           --------------  -----  \n",
      " 0   R&D Spend        50 non-null     float64\n",
      " 1   Administration   50 non-null     float64\n",
      " 2   Marketing Spend  50 non-null     float64\n",
      " 3   Profit           50 non-null     float64\n",
      "dtypes: float64(4)\n",
      "memory usage: 1.7 KB\n"
     ]
    }
   ],
   "source": [
    "df[sayisal_sutunlar].info()"
   ]
  },
  {
   "cell_type": "code",
   "execution_count": 7,
   "metadata": {},
   "outputs": [
    {
     "data": {
      "text/html": [
       "<div>\n",
       "<style scoped>\n",
       "    .dataframe tbody tr th:only-of-type {\n",
       "        vertical-align: middle;\n",
       "    }\n",
       "\n",
       "    .dataframe tbody tr th {\n",
       "        vertical-align: top;\n",
       "    }\n",
       "\n",
       "    .dataframe thead th {\n",
       "        text-align: right;\n",
       "    }\n",
       "</style>\n",
       "<table border=\"1\" class=\"dataframe\">\n",
       "  <thead>\n",
       "    <tr style=\"text-align: right;\">\n",
       "      <th></th>\n",
       "      <th>R&amp;D Spend</th>\n",
       "      <th>Administration</th>\n",
       "      <th>Marketing Spend</th>\n",
       "      <th>Profit</th>\n",
       "    </tr>\n",
       "  </thead>\n",
       "  <tbody>\n",
       "    <tr>\n",
       "      <th>count</th>\n",
       "      <td>50.000000</td>\n",
       "      <td>50.000000</td>\n",
       "      <td>50.000000</td>\n",
       "      <td>50.000000</td>\n",
       "    </tr>\n",
       "    <tr>\n",
       "      <th>mean</th>\n",
       "      <td>73721.615600</td>\n",
       "      <td>121344.639600</td>\n",
       "      <td>211025.097800</td>\n",
       "      <td>112012.639200</td>\n",
       "    </tr>\n",
       "    <tr>\n",
       "      <th>std</th>\n",
       "      <td>45902.256482</td>\n",
       "      <td>28017.802755</td>\n",
       "      <td>122290.310726</td>\n",
       "      <td>40306.180338</td>\n",
       "    </tr>\n",
       "    <tr>\n",
       "      <th>min</th>\n",
       "      <td>0.000000</td>\n",
       "      <td>51283.140000</td>\n",
       "      <td>0.000000</td>\n",
       "      <td>14681.400000</td>\n",
       "    </tr>\n",
       "    <tr>\n",
       "      <th>25%</th>\n",
       "      <td>39936.370000</td>\n",
       "      <td>103730.875000</td>\n",
       "      <td>129300.132500</td>\n",
       "      <td>90138.902500</td>\n",
       "    </tr>\n",
       "    <tr>\n",
       "      <th>50%</th>\n",
       "      <td>73051.080000</td>\n",
       "      <td>122699.795000</td>\n",
       "      <td>212716.240000</td>\n",
       "      <td>107978.190000</td>\n",
       "    </tr>\n",
       "    <tr>\n",
       "      <th>75%</th>\n",
       "      <td>101602.800000</td>\n",
       "      <td>144842.180000</td>\n",
       "      <td>299469.085000</td>\n",
       "      <td>139765.977500</td>\n",
       "    </tr>\n",
       "    <tr>\n",
       "      <th>max</th>\n",
       "      <td>165349.200000</td>\n",
       "      <td>182645.560000</td>\n",
       "      <td>471784.100000</td>\n",
       "      <td>192261.830000</td>\n",
       "    </tr>\n",
       "  </tbody>\n",
       "</table>\n",
       "</div>"
      ],
      "text/plain": [
       "           R&D Spend  Administration  Marketing Spend         Profit\n",
       "count      50.000000       50.000000        50.000000      50.000000\n",
       "mean    73721.615600   121344.639600    211025.097800  112012.639200\n",
       "std     45902.256482    28017.802755    122290.310726   40306.180338\n",
       "min         0.000000    51283.140000         0.000000   14681.400000\n",
       "25%     39936.370000   103730.875000    129300.132500   90138.902500\n",
       "50%     73051.080000   122699.795000    212716.240000  107978.190000\n",
       "75%    101602.800000   144842.180000    299469.085000  139765.977500\n",
       "max    165349.200000   182645.560000    471784.100000  192261.830000"
      ]
     },
     "execution_count": 7,
     "metadata": {},
     "output_type": "execute_result"
    }
   ],
   "source": [
    "df.describe()"
   ]
  },
  {
   "cell_type": "code",
   "execution_count": 8,
   "metadata": {},
   "outputs": [
    {
     "data": {
      "image/png": "[encoded data removed]",
      "text/plain": [
       "<Figure size 400x400 with 1 Axes>"
      ]
     },
     "metadata": {},
     "output_type": "display_data"
    },
    {
     "data": {
      "image/png": "[encoded data removed]",
      "text/plain": [
       "<Figure size 400x400 with 1 Axes>"
      ]
     },
     "metadata": {},
     "output_type": "display_data"
    },
    {
     "data": {
      "image/png": "[encoded data removed]",
      "text/plain": [
       "<Figure size 400x400 with 1 Axes>"
      ]
     },
     "metadata": {},
     "output_type": "display_data"
    },
    {
     "data": {
      "image/png": "[encoded data removed]",
      "text/plain": [
       "<Figure size 400x400 with 1 Axes>"
      ]
     },
     "metadata": {},
     "output_type": "display_data"
    }
   ],
   "source": [
    "for i in sayisal_sutunlar:\n",
    "    fig, ax = plt.subplots(figsize=(4,4))\n",
    "    ax.boxplot(df[i])\n",
    "    ax.set_title(i+' Statistic Summary')\n",
    "plt.show()"
   ]
  },
  {
   "cell_type": "code",
   "execution_count": 9,
   "metadata": {},
   "outputs": [],
   "source": [
    "def tukeys(data,columns):\n",
    "    Q1 = data[columns].quantile(0.25)\n",
    "    Q3 = data[columns].quantile(0.75)\n",
    "    IQR = Q3 - Q1\n",
    "    lower_f = Q1 - (1.5 * IQR)\n",
    "    upper_f = Q3 + (1.5 * IQR)\n",
    "    df_no_outliers = df[(df[columns] >= lower_f) & (df[columns] <= upper_f)]\n",
    "    return df_no_outliers\n",
    "\n",
    "df = tukeys(df, 'Profit')\n"
   ]
  },
  {
   "cell_type": "code",
   "execution_count": 10,
   "metadata": {},
   "outputs": [
    {
     "data": {
      "image/png": "[encoded data removed]",
      "text/plain": [
       "<Figure size 400x400 with 1 Axes>"
      ]
     },
     "metadata": {},
     "output_type": "display_data"
    },
    {
     "data": {
      "image/png": "[encoded data removed]",
      "text/plain": [
       "<Figure size 400x400 with 1 Axes>"
      ]
     },
     "metadata": {},
     "output_type": "display_data"
    },
    {
     "data": {
      "image/png": "[encoded data removed]",
      "text/plain": [
       "<Figure size 400x400 with 1 Axes>"
      ]
     },
     "metadata": {},
     "output_type": "display_data"
    },
    {
     "data": {
      "image/png": "[encoded data removed]",
      "text/plain": [
       "<Figure size 400x400 with 1 Axes>"
      ]
     },
     "metadata": {},
     "output_type": "display_data"
    }
   ],
   "source": [
    "for i in sayisal_sutunlar:\n",
    "    fig, ax = plt.subplots(figsize=(4,4))\n",
    "    ax.boxplot(df[i])\n",
    "    ax.set_title(i+' Statistic Summary')\n",
    "plt.show()"
   ]
  },
  {
   "cell_type": "code",
   "execution_count": 11,
   "metadata": {},
   "outputs": [
    {
     "data": {
      "text/plain": [
       "<function matplotlib.pyplot.show(close=None, block=None)>"
      ]
     },
     "execution_count": 11,
     "metadata": {},
     "output_type": "execute_result"
    },
    {
     "data": {
      "image/png": "[encoded data removed]",
      "text/plain": [
       "<Figure size 640x480 with 2 Axes>"
      ]
     },
     "metadata": {},
     "output_type": "display_data"
    }
   ],
   "source": [
    "sns.heatmap(df[sayisal_sutunlar].corr(),annot=True,cmap=\"YlGnBu\")\n",
    "plt.show"
   ]
  },
  {
   "cell_type": "code",
   "execution_count": 12,
   "metadata": {},
   "outputs": [
    {
     "data": {
      "application/vnd.plotly.v1+json": {
       "config": {
        "plotlyServerURL": "https://plot.ly"
       },
       "data": [
        {
         "marker": {
          "color": "rgb(31, 119, 180)"
         },
         "showlegend": false,
         "type": "histogram",
         "x": [
          165349.2,
          162597.7,
          153441.51,
          144372.41,
          142107.34,
          131876.9,
          134615.46,
          130298.13,
          120542.52,
          123334.88,
          101913.08,
          100671.96,
          93863.75,
          91992.39,
          119943.24,
          114523.61,
          78013.11,
          94657.16,
          91749.16,
          86419.7,
          76253.86,
          78389.47,
          73994.56,
          67532.53,
          77044.01,
          64664.71,
          75328.87,
          72107.6,
          66051.52,
          65605.48,
          61994.48,
          61136.38,
          63408.86,
          55493.95,
          46426.07,
          46014.02,
          28663.76,
          44069.95,
          20229.59,
          38558.51,
          28754.33,
          27892.92,
          23640.93,
          15505.73,
          22177.74,
          1000.23,
          1315.46,
          0,
          542.05
         ],
         "xaxis": "x",
         "yaxis": "y"
        },
        {
         "marker": {
          "color": [
           192261.83,
           191792.06,
           191050.39,
           182901.99,
           166187.94,
           156991.12,
           156122.51,
           155752.6,
           152211.77,
           149759.96,
           146121.95,
           144259.4,
           141585.52,
           134307.35,
           132602.65,
           129917.04,
           126992.93,
           125370.37,
           124266.9,
           122776.86,
           118474.03,
           111313.02,
           110352.25,
           108733.99,
           108552.04,
           107404.34,
           105733.54,
           105008.31,
           103282.38,
           101004.64,
           99937.59,
           97483.56,
           97427.84,
           96778.92,
           96712.8,
           96479.51,
           90708.19,
           89949.14,
           81229.06,
           81005.76,
           78239.91,
           77798.83,
           71498.49,
           69758.98,
           65200.33,
           64926.08,
           49490.75,
           42559.73,
           35673.41
          ],
          "colorscale": [
           [
            0,
            "rgb(31, 119, 180)"
           ],
           [
            0.1111111111111111,
            "rgb(255, 127, 14)"
           ],
           [
            0.2222222222222222,
            "rgb(44, 160, 44)"
           ],
           [
            0.3333333333333333,
            "rgb(214, 39, 40)"
           ],
           [
            0.4444444444444444,
            "rgb(148, 103, 189)"
           ],
           [
            0.5555555555555556,
            "rgb(140, 86, 75)"
           ],
           [
            0.6666666666666666,
            "rgb(227, 119, 194)"
           ],
           [
            0.7777777777777777,
            "rgb(127, 127, 127)"
           ],
           [
            0.8888888888888888,
            "rgb(188, 189, 34)"
           ],
           [
            1,
            "rgb(23, 190, 207)"
           ]
          ],
          "showscale": true,
          "size": 6
         },
         "mode": "markers",
         "showlegend": false,
         "type": "scatter",
         "x": [
          136897.8,
          151377.59,
          101145.55,
          118671.85,
          91391.77,
          99814.71,
          147198.87,
          145530.06,
          148718.95,
          108679.17,
          110594.11,
          91790.61,
          127320.38,
          135495.07,
          156547.42,
          122616.84,
          121597.55,
          145077.58,
          114175.79,
          153514.11,
          113867.3,
          153773.43,
          122782.75,
          105751.03,
          99281.34,
          139553.16,
          144135.98,
          127864.55,
          182645.56,
          153032.06,
          115641.28,
          152701.92,
          129219.61,
          103057.49,
          157693.92,
          85047.44,
          127056.21,
          51283.14,
          65947.93,
          82982.09,
          118546.05,
          84710.77,
          96189.63,
          127382.3,
          154806.14,
          124153.04,
          115816.21,
          135426.92,
          51743.15
         ],
         "xaxis": "x2",
         "y": [
          165349.2,
          162597.7,
          153441.51,
          144372.41,
          142107.34,
          131876.9,
          134615.46,
          130298.13,
          120542.52,
          123334.88,
          101913.08,
          100671.96,
          93863.75,
          91992.39,
          119943.24,
          114523.61,
          78013.11,
          94657.16,
          91749.16,
          86419.7,
          76253.86,
          78389.47,
          73994.56,
          67532.53,
          77044.01,
          64664.71,
          75328.87,
          72107.6,
          66051.52,
          65605.48,
          61994.48,
          61136.38,
          63408.86,
          55493.95,
          46426.07,
          46014.02,
          28663.76,
          44069.95,
          20229.59,
          38558.51,
          28754.33,
          27892.92,
          23640.93,
          15505.73,
          22177.74,
          1000.23,
          1315.46,
          0,
          542.05
         ],
         "yaxis": "y2"
        },
        {
         "marker": {
          "color": [
           192261.83,
           191792.06,
           191050.39,
           182901.99,
           166187.94,
           156991.12,
           156122.51,
           155752.6,
           152211.77,
           149759.96,
           146121.95,
           144259.4,
           141585.52,
           134307.35,
           132602.65,
           129917.04,
           126992.93,
           125370.37,
           124266.9,
           122776.86,
           118474.03,
           111313.02,
           110352.25,
           108733.99,
           108552.04,
           107404.34,
           105733.54,
           105008.31,
           103282.38,
           101004.64,
           99937.59,
           97483.56,
           97427.84,
           96778.92,
           96712.8,
           96479.51,
           90708.19,
           89949.14,
           81229.06,
           81005.76,
           78239.91,
           77798.83,
           71498.49,
           69758.98,
           65200.33,
           64926.08,
           49490.75,
           42559.73,
           35673.41
          ],
          "colorscale": [
           [
            0,
            "rgb(31, 119, 180)"
           ],
           [
            0.1111111111111111,
            "rgb(255, 127, 14)"
           ],
           [
            0.2222222222222222,
            "rgb(44, 160, 44)"
           ],
           [
            0.3333333333333333,
            "rgb(214, 39, 40)"
           ],
           [
            0.4444444444444444,
            "rgb(148, 103, 189)"
           ],
           [
            0.5555555555555556,
            "rgb(140, 86, 75)"
           ],
           [
            0.6666666666666666,
            "rgb(227, 119, 194)"
           ],
           [
            0.7777777777777777,
            "rgb(127, 127, 127)"
           ],
           [
            0.8888888888888888,
            "rgb(188, 189, 34)"
           ],
           [
            1,
            "rgb(23, 190, 207)"
           ]
          ],
          "showscale": false,
          "size": 6
         },
         "mode": "markers",
         "showlegend": false,
         "type": "scatter",
         "x": [
          471784.1,
          443898.53,
          407934.54,
          383199.62,
          366168.42,
          362861.36,
          127716.82,
          323876.68,
          311613.29,
          304981.62,
          229160.95,
          249744.55,
          249839.44,
          252664.93,
          256512.92,
          261776.23,
          264346.06,
          282574.31,
          294919.57,
          0,
          298664.47,
          299737.29,
          303319.26,
          304768.73,
          140574.81,
          137962.62,
          134050.07,
          353183.81,
          118148.2,
          107138.38,
          91131.24,
          88218.23,
          46085.25,
          214634.81,
          210797.67,
          205517.64,
          201126.82,
          197029.42,
          185265.1,
          174999.3,
          172795.67,
          164470.71,
          148001.11,
          35534.17,
          28334.72,
          1903.93,
          297114.46,
          0,
          0
         ],
         "xaxis": "x3",
         "y": [
          165349.2,
          162597.7,
          153441.51,
          144372.41,
          142107.34,
          131876.9,
          134615.46,
          130298.13,
          120542.52,
          123334.88,
          101913.08,
          100671.96,
          93863.75,
          91992.39,
          119943.24,
          114523.61,
          78013.11,
          94657.16,
          91749.16,
          86419.7,
          76253.86,
          78389.47,
          73994.56,
          67532.53,
          77044.01,
          64664.71,
          75328.87,
          72107.6,
          66051.52,
          65605.48,
          61994.48,
          61136.38,
          63408.86,
          55493.95,
          46426.07,
          46014.02,
          28663.76,
          44069.95,
          20229.59,
          38558.51,
          28754.33,
          27892.92,
          23640.93,
          15505.73,
          22177.74,
          1000.23,
          1315.46,
          0,
          542.05
         ],
         "yaxis": "y3"
        },
        {
         "marker": {
          "color": [
           192261.83,
           191792.06,
           191050.39,
           182901.99,
           166187.94,
           156991.12,
           156122.51,
           155752.6,
           152211.77,
           149759.96,
           146121.95,
           144259.4,
           141585.52,
           134307.35,
           132602.65,
           129917.04,
           126992.93,
           125370.37,
           124266.9,
           122776.86,
           118474.03,
           111313.02,
           110352.25,
           108733.99,
           108552.04,
           107404.34,
           105733.54,
           105008.31,
           103282.38,
           101004.64,
           99937.59,
           97483.56,
           97427.84,
           96778.92,
           96712.8,
           96479.51,
           90708.19,
           89949.14,
           81229.06,
           81005.76,
           78239.91,
           77798.83,
           71498.49,
           69758.98,
           65200.33,
           64926.08,
           49490.75,
           42559.73,
           35673.41
          ],
          "colorscale": [
           [
            0,
            "rgb(31, 119, 180)"
           ],
           [
            0.1111111111111111,
            "rgb(255, 127, 14)"
           ],
           [
            0.2222222222222222,
            "rgb(44, 160, 44)"
           ],
           [
            0.3333333333333333,
            "rgb(214, 39, 40)"
           ],
           [
            0.4444444444444444,
            "rgb(148, 103, 189)"
           ],
           [
            0.5555555555555556,
            "rgb(140, 86, 75)"
           ],
           [
            0.6666666666666666,
            "rgb(227, 119, 194)"
           ],
           [
            0.7777777777777777,
            "rgb(127, 127, 127)"
           ],
           [
            0.8888888888888888,
            "rgb(188, 189, 34)"
           ],
           [
            1,
            "rgb(23, 190, 207)"
           ]
          ],
          "showscale": false,
          "size": 6
         },
         "mode": "markers",
         "showlegend": false,
         "type": "scatter",
         "x": [
          "New York",
          "California",
          "Florida",
          "New York",
          "Florida",
          "New York",
          "California",
          "Florida",
          "New York",
          "California",
          "Florida",
          "California",
          "Florida",
          "California",
          "Florida",
          "New York",
          "California",
          "New York",
          "Florida",
          "New York",
          "California",
          "New York",
          "Florida",
          "Florida",
          "New York",
          "California",
          "Florida",
          "New York",
          "Florida",
          "New York",
          "Florida",
          "New York",
          "California",
          "Florida",
          "California",
          "New York",
          "Florida",
          "California",
          "New York",
          "California",
          "California",
          "Florida",
          "California",
          "New York",
          "California",
          "New York",
          "Florida",
          "California",
          "New York"
         ],
         "xaxis": "x4",
         "y": [
          165349.2,
          162597.7,
          153441.51,
          144372.41,
          142107.34,
          131876.9,
          134615.46,
          130298.13,
          120542.52,
          123334.88,
          101913.08,
          100671.96,
          93863.75,
          91992.39,
          119943.24,
          114523.61,
          78013.11,
          94657.16,
          91749.16,
          86419.7,
          76253.86,
          78389.47,
          73994.56,
          67532.53,
          77044.01,
          64664.71,
          75328.87,
          72107.6,
          66051.52,
          65605.48,
          61994.48,
          61136.38,
          63408.86,
          55493.95,
          46426.07,
          46014.02,
          28663.76,
          44069.95,
          20229.59,
          38558.51,
          28754.33,
          27892.92,
          23640.93,
          15505.73,
          22177.74,
          1000.23,
          1315.46,
          0,
          542.05
         ],
         "yaxis": "y4"
        },
        {
         "marker": {
          "color": [
           192261.83,
           191792.06,
           191050.39,
           182901.99,
           166187.94,
           156991.12,
           156122.51,
           155752.6,
           152211.77,
           149759.96,
           146121.95,
           144259.4,
           141585.52,
           134307.35,
           132602.65,
           129917.04,
           126992.93,
           125370.37,
           124266.9,
           122776.86,
           118474.03,
           111313.02,
           110352.25,
           108733.99,
           108552.04,
           107404.34,
           105733.54,
           105008.31,
           103282.38,
           101004.64,
           99937.59,
           97483.56,
           97427.84,
           96778.92,
           96712.8,
           96479.51,
           90708.19,
           89949.14,
           81229.06,
           81005.76,
           78239.91,
           77798.83,
           71498.49,
           69758.98,
           65200.33,
           64926.08,
           49490.75,
           42559.73,
           35673.41
          ],
          "colorscale": [
           [
            0,
            "rgb(31, 119, 180)"
           ],
           [
            0.1111111111111111,
            "rgb(255, 127, 14)"
           ],
           [
            0.2222222222222222,
            "rgb(44, 160, 44)"
           ],
           [
            0.3333333333333333,
            "rgb(214, 39, 40)"
           ],
           [
            0.4444444444444444,
            "rgb(148, 103, 189)"
           ],
           [
            0.5555555555555556,
            "rgb(140, 86, 75)"
           ],
           [
            0.6666666666666666,
            "rgb(227, 119, 194)"
           ],
           [
            0.7777777777777777,
            "rgb(127, 127, 127)"
           ],
           [
            0.8888888888888888,
            "rgb(188, 189, 34)"
           ],
           [
            1,
            "rgb(23, 190, 207)"
           ]
          ],
          "showscale": false,
          "size": 6
         },
         "mode": "markers",
         "showlegend": false,
         "type": "scatter",
         "x": [
          165349.2,
          162597.7,
          153441.51,
          144372.41,
          142107.34,
          131876.9,
          134615.46,
          130298.13,
          120542.52,
          123334.88,
          101913.08,
          100671.96,
          93863.75,
          91992.39,
          119943.24,
          114523.61,
          78013.11,
          94657.16,
          91749.16,
          86419.7,
          76253.86,
          78389.47,
          73994.56,
          67532.53,
          77044.01,
          64664.71,
          75328.87,
          72107.6,
          66051.52,
          65605.48,
          61994.48,
          61136.38,
          63408.86,
          55493.95,
          46426.07,
          46014.02,
          28663.76,
          44069.95,
          20229.59,
          38558.51,
          28754.33,
          27892.92,
          23640.93,
          15505.73,
          22177.74,
          1000.23,
          1315.46,
          0,
          542.05
         ],
         "xaxis": "x5",
         "y": [
          136897.8,
          151377.59,
          101145.55,
          118671.85,
          91391.77,
          99814.71,
          147198.87,
          145530.06,
          148718.95,
          108679.17,
          110594.11,
          91790.61,
          127320.38,
          135495.07,
          156547.42,
          122616.84,
          121597.55,
          145077.58,
          114175.79,
          153514.11,
          113867.3,
          153773.43,
          122782.75,
          105751.03,
          99281.34,
          139553.16,
          144135.98,
          127864.55,
          182645.56,
          153032.06,
          115641.28,
          152701.92,
          129219.61,
          103057.49,
          157693.92,
          85047.44,
          127056.21,
          51283.14,
          65947.93,
          82982.09,
          118546.05,
          84710.77,
          96189.63,
          127382.3,
          154806.14,
          124153.04,
          115816.21,
          135426.92,
          51743.15
         ],
         "yaxis": "y5"
        },
        {
         "marker": {
          "color": "rgb(31, 119, 180)"
         },
         "showlegend": false,
         "type": "histogram",
         "x": [
          136897.8,
          151377.59,
          101145.55,
          118671.85,
          91391.77,
          99814.71,
          147198.87,
          145530.06,
          148718.95,
          108679.17,
          110594.11,
          91790.61,
          127320.38,
          135495.07,
          156547.42,
          122616.84,
          121597.55,
          145077.58,
          114175.79,
          153514.11,
          113867.3,
          153773.43,
          122782.75,
          105751.03,
          99281.34,
          139553.16,
          144135.98,
          127864.55,
          182645.56,
          153032.06,
          115641.28,
          152701.92,
          129219.61,
          103057.49,
          157693.92,
          85047.44,
          127056.21,
          51283.14,
          65947.93,
          82982.09,
          118546.05,
          84710.77,
          96189.63,
          127382.3,
          154806.14,
          124153.04,
          115816.21,
          135426.92,
          51743.15
         ],
         "xaxis": "x6",
         "yaxis": "y6"
        },
        {
         "marker": {
          "color": [
           192261.83,
           191792.06,
           191050.39,
           182901.99,
           166187.94,
           156991.12,
           156122.51,
           155752.6,
           152211.77,
           149759.96,
           146121.95,
           144259.4,
           141585.52,
           134307.35,
           132602.65,
           129917.04,
           126992.93,
           125370.37,
           124266.9,
           122776.86,
           118474.03,
           111313.02,
           110352.25,
           108733.99,
           108552.04,
           107404.34,
           105733.54,
           105008.31,
           103282.38,
           101004.64,
           99937.59,
           97483.56,
           97427.84,
           96778.92,
           96712.8,
           96479.51,
           90708.19,
           89949.14,
           81229.06,
           81005.76,
           78239.91,
           77798.83,
           71498.49,
           69758.98,
           65200.33,
           64926.08,
           49490.75,
           42559.73,
           35673.41
          ],
          "colorscale": [
           [
            0,
            "rgb(31, 119, 180)"
           ],
           [
            0.1111111111111111,
            "rgb(255, 127, 14)"
           ],
           [
            0.2222222222222222,
            "rgb(44, 160, 44)"
           ],
           [
            0.3333333333333333,
            "rgb(214, 39, 40)"
           ],
           [
            0.4444444444444444,
            "rgb(148, 103, 189)"
           ],
           [
            0.5555555555555556,
            "rgb(140, 86, 75)"
           ],
           [
            0.6666666666666666,
            "rgb(227, 119, 194)"
           ],
           [
            0.7777777777777777,
            "rgb(127, 127, 127)"
           ],
           [
            0.8888888888888888,
            "rgb(188, 189, 34)"
           ],
           [
            1,
            "rgb(23, 190, 207)"
           ]
          ],
          "showscale": false,
          "size": 6
         },
         "mode": "markers",
         "showlegend": false,
         "type": "scatter",
         "x": [
          471784.1,
          443898.53,
          407934.54,
          383199.62,
          366168.42,
          362861.36,
          127716.82,
          323876.68,
          311613.29,
          304981.62,
          229160.95,
          249744.55,
          249839.44,
          252664.93,
          256512.92,
          261776.23,
          264346.06,
          282574.31,
          294919.57,
          0,
          298664.47,
          299737.29,
          303319.26,
          304768.73,
          140574.81,
          137962.62,
          134050.07,
          353183.81,
          118148.2,
          107138.38,
          91131.24,
          88218.23,
          46085.25,
          214634.81,
          210797.67,
          205517.64,
          201126.82,
          197029.42,
          185265.1,
          174999.3,
          172795.67,
          164470.71,
          148001.11,
          35534.17,
          28334.72,
          1903.93,
          297114.46,
          0,
          0
         ],
         "xaxis": "x7",
         "y": [
          136897.8,
          151377.59,
          101145.55,
          118671.85,
          91391.77,
          99814.71,
          147198.87,
          145530.06,
          148718.95,
          108679.17,
          110594.11,
          91790.61,
          127320.38,
          135495.07,
          156547.42,
          122616.84,
          121597.55,
          145077.58,
          114175.79,
          153514.11,
          113867.3,
          153773.43,
          122782.75,
          105751.03,
          99281.34,
          139553.16,
          144135.98,
          127864.55,
          182645.56,
          153032.06,
          115641.28,
          152701.92,
          129219.61,
          103057.49,
          157693.92,
          85047.44,
          127056.21,
          51283.14,
          65947.93,
          82982.09,
          118546.05,
          84710.77,
          96189.63,
          127382.3,
          154806.14,
          124153.04,
          115816.21,
          135426.92,
          51743.15
         ],
         "yaxis": "y7"
        },
        {
         "marker": {
          "color": [
           192261.83,
           191792.06,
           191050.39,
           182901.99,
           166187.94,
           156991.12,
           156122.51,
           155752.6,
           152211.77,
           149759.96,
           146121.95,
           144259.4,
           141585.52,
           134307.35,
           132602.65,
           129917.04,
           126992.93,
           125370.37,
           124266.9,
           122776.86,
           118474.03,
           111313.02,
           110352.25,
           108733.99,
           108552.04,
           107404.34,
           105733.54,
           105008.31,
           103282.38,
           101004.64,
           99937.59,
           97483.56,
           97427.84,
           96778.92,
           96712.8,
           96479.51,
           90708.19,
           89949.14,
           81229.06,
           81005.76,
           78239.91,
           77798.83,
           71498.49,
           69758.98,
           65200.33,
           64926.08,
           49490.75,
           42559.73,
           35673.41
          ],
          "colorscale": [
           [
            0,
            "rgb(31, 119, 180)"
           ],
           [
            0.1111111111111111,
            "rgb(255, 127, 14)"
           ],
           [
            0.2222222222222222,
            "rgb(44, 160, 44)"
           ],
           [
            0.3333333333333333,
            "rgb(214, 39, 40)"
           ],
           [
            0.4444444444444444,
            "rgb(148, 103, 189)"
           ],
           [
            0.5555555555555556,
            "rgb(140, 86, 75)"
           ],
           [
            0.6666666666666666,
            "rgb(227, 119, 194)"
           ],
           [
            0.7777777777777777,
            "rgb(127, 127, 127)"
           ],
           [
            0.8888888888888888,
            "rgb(188, 189, 34)"
           ],
           [
            1,
            "rgb(23, 190, 207)"
           ]
          ],
          "showscale": false,
          "size": 6
         },
         "mode": "markers",
         "showlegend": false,
         "type": "scatter",
         "x": [
          "New York",
          "California",
          "Florida",
          "New York",
          "Florida",
          "New York",
          "California",
          "Florida",
          "New York",
          "California",
          "Florida",
          "California",
          "Florida",
          "California",
          "Florida",
          "New York",
          "California",
          "New York",
          "Florida",
          "New York",
          "California",
          "New York",
          "Florida",
          "Florida",
          "New York",
          "California",
          "Florida",
          "New York",
          "Florida",
          "New York",
          "Florida",
          "New York",
          "California",
          "Florida",
          "California",
          "New York",
          "Florida",
          "California",
          "New York",
          "California",
          "California",
          "Florida",
          "California",
          "New York",
          "California",
          "New York",
          "Florida",
          "California",
          "New York"
         ],
         "xaxis": "x8",
         "y": [
          136897.8,
          151377.59,
          101145.55,
          118671.85,
          91391.77,
          99814.71,
          147198.87,
          145530.06,
          148718.95,
          108679.17,
          110594.11,
          91790.61,
          127320.38,
          135495.07,
          156547.42,
          122616.84,
          121597.55,
          145077.58,
          114175.79,
          153514.11,
          113867.3,
          153773.43,
          122782.75,
          105751.03,
          99281.34,
          139553.16,
          144135.98,
          127864.55,
          182645.56,
          153032.06,
          115641.28,
          152701.92,
          129219.61,
          103057.49,
          157693.92,
          85047.44,
          127056.21,
          51283.14,
          65947.93,
          82982.09,
          118546.05,
          84710.77,
          96189.63,
          127382.3,
          154806.14,
          124153.04,
          115816.21,
          135426.92,
          51743.15
         ],
         "yaxis": "y8"
        },
        {
         "marker": {
          "color": [
           192261.83,
           191792.06,
           191050.39,
           182901.99,
           166187.94,
           156991.12,
           156122.51,
           155752.6,
           152211.77,
           149759.96,
           146121.95,
           144259.4,
           141585.52,
           134307.35,
           132602.65,
           129917.04,
           126992.93,
           125370.37,
           124266.9,
           122776.86,
           118474.03,
           111313.02,
           110352.25,
           108733.99,
           108552.04,
           107404.34,
           105733.54,
           105008.31,
           103282.38,
           101004.64,
           99937.59,
           97483.56,
           97427.84,
           96778.92,
           96712.8,
           96479.51,
           90708.19,
           89949.14,
           81229.06,
           81005.76,
           78239.91,
           77798.83,
           71498.49,
           69758.98,
           65200.33,
           64926.08,
           49490.75,
           42559.73,
           35673.41
          ],
          "colorscale": [
           [
            0,
            "rgb(31, 119, 180)"
           ],
           [
            0.1111111111111111,
            "rgb(255, 127, 14)"
           ],
           [
            0.2222222222222222,
            "rgb(44, 160, 44)"
           ],
           [
            0.3333333333333333,
            "rgb(214, 39, 40)"
           ],
           [
            0.4444444444444444,
            "rgb(148, 103, 189)"
           ],
           [
            0.5555555555555556,
            "rgb(140, 86, 75)"
           ],
           [
            0.6666666666666666,
            "rgb(227, 119, 194)"
           ],
           [
            0.7777777777777777,
            "rgb(127, 127, 127)"
           ],
           [
            0.8888888888888888,
            "rgb(188, 189, 34)"
           ],
           [
            1,
            "rgb(23, 190, 207)"
           ]
          ],
          "showscale": false,
          "size": 6
         },
         "mode": "markers",
         "showlegend": false,
         "type": "scatter",
         "x": [
          165349.2,
          162597.7,
          153441.51,
          144372.41,
          142107.34,
          131876.9,
          134615.46,
          130298.13,
          120542.52,
          123334.88,
          101913.08,
          100671.96,
          93863.75,
          91992.39,
          119943.24,
          114523.61,
          78013.11,
          94657.16,
          91749.16,
          86419.7,
          76253.86,
          78389.47,
          73994.56,
          67532.53,
          77044.01,
          64664.71,
          75328.87,
          72107.6,
          66051.52,
          65605.48,
          61994.48,
          61136.38,
          63408.86,
          55493.95,
          46426.07,
          46014.02,
          28663.76,
          44069.95,
          20229.59,
          38558.51,
          28754.33,
          27892.92,
          23640.93,
          15505.73,
          22177.74,
          1000.23,
          1315.46,
          0,
          542.05
         ],
         "xaxis": "x9",
         "y": [
          471784.1,
          443898.53,
          407934.54,
          383199.62,
          366168.42,
          362861.36,
          127716.82,
          323876.68,
          311613.29,
          304981.62,
          229160.95,
          249744.55,
          249839.44,
          252664.93,
          256512.92,
          261776.23,
          264346.06,
          282574.31,
          294919.57,
          0,
          298664.47,
          299737.29,
          303319.26,
          304768.73,
          140574.81,
          137962.62,
          134050.07,
          353183.81,
          118148.2,
          107138.38,
          91131.24,
          88218.23,
          46085.25,
          214634.81,
          210797.67,
          205517.64,
          201126.82,
          197029.42,
          185265.1,
          174999.3,
          172795.67,
          164470.71,
          148001.11,
          35534.17,
          28334.72,
          1903.93,
          297114.46,
          0,
          0
         ],
         "yaxis": "y9"
        },
        {
         "marker": {
          "color": [
           192261.83,
           191792.06,
           191050.39,
           182901.99,
           166187.94,
           156991.12,
           156122.51,
           155752.6,
           152211.77,
           149759.96,
           146121.95,
           144259.4,
           141585.52,
           134307.35,
           132602.65,
           129917.04,
           126992.93,
           125370.37,
           124266.9,
           122776.86,
           118474.03,
           111313.02,
           110352.25,
           108733.99,
           108552.04,
           107404.34,
           105733.54,
           105008.31,
           103282.38,
           101004.64,
           99937.59,
           97483.56,
           97427.84,
           96778.92,
           96712.8,
           96479.51,
           90708.19,
           89949.14,
           81229.06,
           81005.76,
           78239.91,
           77798.83,
           71498.49,
           69758.98,
           65200.33,
           64926.08,
           49490.75,
           42559.73,
           35673.41
          ],
          "colorscale": [
           [
            0,
            "rgb(31, 119, 180)"
           ],
           [
            0.1111111111111111,
            "rgb(255, 127, 14)"
           ],
           [
            0.2222222222222222,
            "rgb(44, 160, 44)"
           ],
           [
            0.3333333333333333,
            "rgb(214, 39, 40)"
           ],
           [
            0.4444444444444444,
            "rgb(148, 103, 189)"
           ],
           [
            0.5555555555555556,
            "rgb(140, 86, 75)"
           ],
           [
            0.6666666666666666,
            "rgb(227, 119, 194)"
           ],
           [
            0.7777777777777777,
            "rgb(127, 127, 127)"
           ],
           [
            0.8888888888888888,
            "rgb(188, 189, 34)"
           ],
           [
            1,
            "rgb(23, 190, 207)"
           ]
          ],
          "showscale": false,
          "size": 6
         },
         "mode": "markers",
         "showlegend": false,
         "type": "scatter",
         "x": [
          136897.8,
          151377.59,
          101145.55,
          118671.85,
          91391.77,
          99814.71,
          147198.87,
          145530.06,
          148718.95,
          108679.17,
          110594.11,
          91790.61,
          127320.38,
          135495.07,
          156547.42,
          122616.84,
          121597.55,
          145077.58,
          114175.79,
          153514.11,
          113867.3,
          153773.43,
          122782.75,
          105751.03,
          99281.34,
          139553.16,
          144135.98,
          127864.55,
          182645.56,
          153032.06,
          115641.28,
          152701.92,
          129219.61,
          103057.49,
          157693.92,
          85047.44,
          127056.21,
          51283.14,
          65947.93,
          82982.09,
          118546.05,
          84710.77,
          96189.63,
          127382.3,
          154806.14,
          124153.04,
          115816.21,
          135426.92,
          51743.15
         ],
         "xaxis": "x10",
         "y": [
          471784.1,
          443898.53,
          407934.54,
          383199.62,
          366168.42,
          362861.36,
          127716.82,
          323876.68,
          311613.29,
          304981.62,
          229160.95,
          249744.55,
          249839.44,
          252664.93,
          256512.92,
          261776.23,
          264346.06,
          282574.31,
          294919.57,
          0,
          298664.47,
          299737.29,
          303319.26,
          304768.73,
          140574.81,
          137962.62,
          134050.07,
          353183.81,
          118148.2,
          107138.38,
          91131.24,
          88218.23,
          46085.25,
          214634.81,
          210797.67,
          205517.64,
          201126.82,
          197029.42,
          185265.1,
          174999.3,
          172795.67,
          164470.71,
          148001.11,
          35534.17,
          28334.72,
          1903.93,
          297114.46,
          0,
          0
         ],
         "yaxis": "y10"
        },
        {
         "marker": {
          "color": "rgb(31, 119, 180)"
         },
         "showlegend": false,
         "type": "histogram",
         "x": [
          471784.1,
          443898.53,
          407934.54,
          383199.62,
          366168.42,
          362861.36,
          127716.82,
          323876.68,
          311613.29,
          304981.62,
          229160.95,
          249744.55,
          249839.44,
          252664.93,
          256512.92,
          261776.23,
          264346.06,
          282574.31,
          294919.57,
          0,
          298664.47,
          299737.29,
          303319.26,
          304768.73,
          140574.81,
          137962.62,
          134050.07,
          353183.81,
          118148.2,
          107138.38,
          91131.24,
          88218.23,
          46085.25,
          214634.81,
          210797.67,
          205517.64,
          201126.82,
          197029.42,
          185265.1,
          174999.3,
          172795.67,
          164470.71,
          148001.11,
          35534.17,
          28334.72,
          1903.93,
          297114.46,
          0,
          0
         ],
         "xaxis": "x11",
         "yaxis": "y11"
        },
        {
         "marker": {
          "color": [
           192261.83,
           191792.06,
           191050.39,
           182901.99,
           166187.94,
           156991.12,
           156122.51,
           155752.6,
           152211.77,
           149759.96,
           146121.95,
           144259.4,
           141585.52,
           134307.35,
           132602.65,
           129917.04,
           126992.93,
           125370.37,
           124266.9,
           122776.86,
           118474.03,
           111313.02,
           110352.25,
           108733.99,
           108552.04,
           107404.34,
           105733.54,
           105008.31,
           103282.38,
           101004.64,
           99937.59,
           97483.56,
           97427.84,
           96778.92,
           96712.8,
           96479.51,
           90708.19,
           89949.14,
           81229.06,
           81005.76,
           78239.91,
           77798.83,
           71498.49,
           69758.98,
           65200.33,
           64926.08,
           49490.75,
           42559.73,
           35673.41
          ],
          "colorscale": [
           [
            0,
            "rgb(31, 119, 180)"
           ],
           [
            0.1111111111111111,
            "rgb(255, 127, 14)"
           ],
           [
            0.2222222222222222,
            "rgb(44, 160, 44)"
           ],
           [
            0.3333333333333333,
            "rgb(214, 39, 40)"
           ],
           [
            0.4444444444444444,
            "rgb(148, 103, 189)"
           ],
           [
            0.5555555555555556,
            "rgb(140, 86, 75)"
           ],
           [
            0.6666666666666666,
            "rgb(227, 119, 194)"
           ],
           [
            0.7777777777777777,
            "rgb(127, 127, 127)"
           ],
           [
            0.8888888888888888,
            "rgb(188, 189, 34)"
           ],
           [
            1,
            "rgb(23, 190, 207)"
           ]
          ],
          "showscale": false,
          "size": 6
         },
         "mode": "markers",
         "showlegend": false,
         "type": "scatter",
         "x": [
          "New York",
          "California",
          "Florida",
          "New York",
          "Florida",
          "New York",
          "California",
          "Florida",
          "New York",
          "California",
          "Florida",
          "California",
          "Florida",
          "California",
          "Florida",
          "New York",
          "California",
          "New York",
          "Florida",
          "New York",
          "California",
          "New York",
          "Florida",
          "Florida",
          "New York",
          "California",
          "Florida",
          "New York",
          "Florida",
          "New York",
          "Florida",
          "New York",
          "California",
          "Florida",
          "California",
          "New York",
          "Florida",
          "California",
          "New York",
          "California",
          "California",
          "Florida",
          "California",
          "New York",
          "California",
          "New York",
          "Florida",
          "California",
          "New York"
         ],
         "xaxis": "x12",
         "y": [
          471784.1,
          443898.53,
          407934.54,
          383199.62,
          366168.42,
          362861.36,
          127716.82,
          323876.68,
          311613.29,
          304981.62,
          229160.95,
          249744.55,
          249839.44,
          252664.93,
          256512.92,
          261776.23,
          264346.06,
          282574.31,
          294919.57,
          0,
          298664.47,
          299737.29,
          303319.26,
          304768.73,
          140574.81,
          137962.62,
          134050.07,
          353183.81,
          118148.2,
          107138.38,
          91131.24,
          88218.23,
          46085.25,
          214634.81,
          210797.67,
          205517.64,
          201126.82,
          197029.42,
          185265.1,
          174999.3,
          172795.67,
          164470.71,
          148001.11,
          35534.17,
          28334.72,
          1903.93,
          297114.46,
          0,
          0
         ],
         "yaxis": "y12"
        },
        {
         "marker": {
          "color": [
           192261.83,
           191792.06,
           191050.39,
           182901.99,
           166187.94,
           156991.12,
           156122.51,
           155752.6,
           152211.77,
           149759.96,
           146121.95,
           144259.4,
           141585.52,
           134307.35,
           132602.65,
           129917.04,
           126992.93,
           125370.37,
           124266.9,
           122776.86,
           118474.03,
           111313.02,
           110352.25,
           108733.99,
           108552.04,
           107404.34,
           105733.54,
           105008.31,
           103282.38,
           101004.64,
           99937.59,
           97483.56,
           97427.84,
           96778.92,
           96712.8,
           96479.51,
           90708.19,
           89949.14,
           81229.06,
           81005.76,
           78239.91,
           77798.83,
           71498.49,
           69758.98,
           65200.33,
           64926.08,
           49490.75,
           42559.73,
           35673.41
          ],
          "colorscale": [
           [
            0,
            "rgb(31, 119, 180)"
           ],
           [
            0.1111111111111111,
            "rgb(255, 127, 14)"
           ],
           [
            0.2222222222222222,
            "rgb(44, 160, 44)"
           ],
           [
            0.3333333333333333,
            "rgb(214, 39, 40)"
           ],
           [
            0.4444444444444444,
            "rgb(148, 103, 189)"
           ],
           [
            0.5555555555555556,
            "rgb(140, 86, 75)"
           ],
           [
            0.6666666666666666,
            "rgb(227, 119, 194)"
           ],
           [
            0.7777777777777777,
            "rgb(127, 127, 127)"
           ],
           [
            0.8888888888888888,
            "rgb(188, 189, 34)"
           ],
           [
            1,
            "rgb(23, 190, 207)"
           ]
          ],
          "showscale": false,
          "size": 6
         },
         "mode": "markers",
         "showlegend": false,
         "type": "scatter",
         "x": [
          165349.2,
          162597.7,
          153441.51,
          144372.41,
          142107.34,
          131876.9,
          134615.46,
          130298.13,
          120542.52,
          123334.88,
          101913.08,
          100671.96,
          93863.75,
          91992.39,
          119943.24,
          114523.61,
          78013.11,
          94657.16,
          91749.16,
          86419.7,
          76253.86,
          78389.47,
          73994.56,
          67532.53,
          77044.01,
          64664.71,
          75328.87,
          72107.6,
          66051.52,
          65605.48,
          61994.48,
          61136.38,
          63408.86,
          55493.95,
          46426.07,
          46014.02,
          28663.76,
          44069.95,
          20229.59,
          38558.51,
          28754.33,
          27892.92,
          23640.93,
          15505.73,
          22177.74,
          1000.23,
          1315.46,
          0,
          542.05
         ],
         "xaxis": "x13",
         "y": [
          "New York",
          "California",
          "Florida",
          "New York",
          "Florida",
          "New York",
          "California",
          "Florida",
          "New York",
          "California",
          "Florida",
          "California",
          "Florida",
          "California",
          "Florida",
          "New York",
          "California",
          "New York",
          "Florida",
          "New York",
          "California",
          "New York",
          "Florida",
          "Florida",
          "New York",
          "California",
          "Florida",
          "New York",
          "Florida",
          "New York",
          "Florida",
          "New York",
          "California",
          "Florida",
          "California",
          "New York",
          "Florida",
          "California",
          "New York",
          "California",
          "California",
          "Florida",
          "California",
          "New York",
          "California",
          "New York",
          "Florida",
          "California",
          "New York"
         ],
         "yaxis": "y13"
        },
        {
         "marker": {
          "color": [
           192261.83,
           191792.06,
           191050.39,
           182901.99,
           166187.94,
           156991.12,
           156122.51,
           155752.6,
           152211.77,
           149759.96,
           146121.95,
           144259.4,
           141585.52,
           134307.35,
           132602.65,
           129917.04,
           126992.93,
           125370.37,
           124266.9,
           122776.86,
           118474.03,
           111313.02,
           110352.25,
           108733.99,
           108552.04,
           107404.34,
           105733.54,
           105008.31,
           103282.38,
           101004.64,
           99937.59,
           97483.56,
           97427.84,
           96778.92,
           96712.8,
           96479.51,
           90708.19,
           89949.14,
           81229.06,
           81005.76,
           78239.91,
           77798.83,
           71498.49,
           69758.98,
           65200.33,
           64926.08,
           49490.75,
           42559.73,
           35673.41
          ],
          "colorscale": [
           [
            0,
            "rgb(31, 119, 180)"
           ],
           [
            0.1111111111111111,
            "rgb(255, 127, 14)"
           ],
           [
            0.2222222222222222,
            "rgb(44, 160, 44)"
           ],
           [
            0.3333333333333333,
            "rgb(214, 39, 40)"
           ],
           [
            0.4444444444444444,
            "rgb(148, 103, 189)"
           ],
           [
            0.5555555555555556,
            "rgb(140, 86, 75)"
           ],
           [
            0.6666666666666666,
            "rgb(227, 119, 194)"
           ],
           [
            0.7777777777777777,
            "rgb(127, 127, 127)"
           ],
           [
            0.8888888888888888,
            "rgb(188, 189, 34)"
           ],
           [
            1,
            "rgb(23, 190, 207)"
           ]
          ],
          "showscale": false,
          "size": 6
         },
         "mode": "markers",
         "showlegend": false,
         "type": "scatter",
         "x": [
          136897.8,
          151377.59,
          101145.55,
          118671.85,
          91391.77,
          99814.71,
          147198.87,
          145530.06,
          148718.95,
          108679.17,
          110594.11,
          91790.61,
          127320.38,
          135495.07,
          156547.42,
          122616.84,
          121597.55,
          145077.58,
          114175.79,
          153514.11,
          113867.3,
          153773.43,
          122782.75,
          105751.03,
          99281.34,
          139553.16,
          144135.98,
          127864.55,
          182645.56,
          153032.06,
          115641.28,
          152701.92,
          129219.61,
          103057.49,
          157693.92,
          85047.44,
          127056.21,
          51283.14,
          65947.93,
          82982.09,
          118546.05,
          84710.77,
          96189.63,
          127382.3,
          154806.14,
          124153.04,
          115816.21,
          135426.92,
          51743.15
         ],
         "xaxis": "x14",
         "y": [
          "New York",
          "California",
          "Florida",
          "New York",
          "Florida",
          "New York",
          "California",
          "Florida",
          "New York",
          "California",
          "Florida",
          "California",
          "Florida",
          "California",
          "Florida",
          "New York",
          "California",
          "New York",
          "Florida",
          "New York",
          "California",
          "New York",
          "Florida",
          "Florida",
          "New York",
          "California",
          "Florida",
          "New York",
          "Florida",
          "New York",
          "Florida",
          "New York",
          "California",
          "Florida",
          "California",
          "New York",
          "Florida",
          "California",
          "New York",
          "California",
          "California",
          "Florida",
          "California",
          "New York",
          "California",
          "New York",
          "Florida",
          "California",
          "New York"
         ],
         "yaxis": "y14"
        },
        {
         "marker": {
          "color": [
           192261.83,
           191792.06,
           191050.39,
           182901.99,
           166187.94,
           156991.12,
           156122.51,
           155752.6,
           152211.77,
           149759.96,
           146121.95,
           144259.4,
           141585.52,
           134307.35,
           132602.65,
           129917.04,
           126992.93,
           125370.37,
           124266.9,
           122776.86,
           118474.03,
           111313.02,
           110352.25,
           108733.99,
           108552.04,
           107404.34,
           105733.54,
           105008.31,
           103282.38,
           101004.64,
           99937.59,
           97483.56,
           97427.84,
           96778.92,
           96712.8,
           96479.51,
           90708.19,
           89949.14,
           81229.06,
           81005.76,
           78239.91,
           77798.83,
           71498.49,
           69758.98,
           65200.33,
           64926.08,
           49490.75,
           42559.73,
           35673.41
          ],
          "colorscale": [
           [
            0,
            "rgb(31, 119, 180)"
           ],
           [
            0.1111111111111111,
            "rgb(255, 127, 14)"
           ],
           [
            0.2222222222222222,
            "rgb(44, 160, 44)"
           ],
           [
            0.3333333333333333,
            "rgb(214, 39, 40)"
           ],
           [
            0.4444444444444444,
            "rgb(148, 103, 189)"
           ],
           [
            0.5555555555555556,
            "rgb(140, 86, 75)"
           ],
           [
            0.6666666666666666,
            "rgb(227, 119, 194)"
           ],
           [
            0.7777777777777777,
            "rgb(127, 127, 127)"
           ],
           [
            0.8888888888888888,
            "rgb(188, 189, 34)"
           ],
           [
            1,
            "rgb(23, 190, 207)"
           ]
          ],
          "showscale": false,
          "size": 6
         },
         "mode": "markers",
         "showlegend": false,
         "type": "scatter",
         "x": [
          471784.1,
          443898.53,
          407934.54,
          383199.62,
          366168.42,
          362861.36,
          127716.82,
          323876.68,
          311613.29,
          304981.62,
          229160.95,
          249744.55,
          249839.44,
          252664.93,
          256512.92,
          261776.23,
          264346.06,
          282574.31,
          294919.57,
          0,
          298664.47,
          299737.29,
          303319.26,
          304768.73,
          140574.81,
          137962.62,
          134050.07,
          353183.81,
          118148.2,
          107138.38,
          91131.24,
          88218.23,
          46085.25,
          214634.81,
          210797.67,
          205517.64,
          201126.82,
          197029.42,
          185265.1,
          174999.3,
          172795.67,
          164470.71,
          148001.11,
          35534.17,
          28334.72,
          1903.93,
          297114.46,
          0,
          0
         ],
         "xaxis": "x15",
         "y": [
          "New York",
          "California",
          "Florida",
          "New York",
          "Florida",
          "New York",
          "California",
          "Florida",
          "New York",
          "California",
          "Florida",
          "California",
          "Florida",
          "California",
          "Florida",
          "New York",
          "California",
          "New York",
          "Florida",
          "New York",
          "California",
          "New York",
          "Florida",
          "Florida",
          "New York",
          "California",
          "Florida",
          "New York",
          "Florida",
          "New York",
          "Florida",
          "New York",
          "California",
          "Florida",
          "California",
          "New York",
          "Florida",
          "California",
          "New York",
          "California",
          "California",
          "Florida",
          "California",
          "New York",
          "California",
          "New York",
          "Florida",
          "California",
          "New York"
         ],
         "yaxis": "y15"
        },
        {
         "marker": {
          "color": "rgb(31, 119, 180)"
         },
         "showlegend": false,
         "type": "histogram",
         "x": [
          "New York",
          "California",
          "Florida",
          "New York",
          "Florida",
          "New York",
          "California",
          "Florida",
          "New York",
          "California",
          "Florida",
          "California",
          "Florida",
          "California",
          "Florida",
          "New York",
          "California",
          "New York",
          "Florida",
          "New York",
          "California",
          "New York",
          "Florida",
          "Florida",
          "New York",
          "California",
          "Florida",
          "New York",
          "Florida",
          "New York",
          "Florida",
          "New York",
          "California",
          "Florida",
          "California",
          "New York",
          "Florida",
          "California",
          "New York",
          "California",
          "California",
          "Florida",
          "California",
          "New York",
          "California",
          "New York",
          "Florida",
          "California",
          "New York"
         ],
         "xaxis": "x16",
         "yaxis": "y16"
        }
       ],
       "layout": {
        "barmode": "stack",
        "height": 800,
        "showlegend": true,
        "template": {
         "data": {
          "bar": [
           {
            "error_x": {
             "color": "#2a3f5f"
            },
            "error_y": {
             "color": "#2a3f5f"
            },
            "marker": {
             "line": {
              "color": "#E5ECF6",
              "width": 0.5
             },
             "pattern": {
              "fillmode": "overlay",
              "size": 10,
              "solidity": 0.2
             }
            },
            "type": "bar"
           }
          ],
          "barpolar": [
           {
            "marker": {
             "line": {
              "color": "#E5ECF6",
              "width": 0.5
             },
             "pattern": {
              "fillmode": "overlay",
              "size": 10,
              "solidity": 0.2
             }
            },
            "type": "barpolar"
           }
          ],
          "carpet": [
           {
            "aaxis": {
             "endlinecolor": "#2a3f5f",
             "gridcolor": "white",
             "linecolor": "white",
             "minorgridcolor": "white",
             "startlinecolor": "#2a3f5f"
            },
            "baxis": {
             "endlinecolor": "#2a3f5f",
             "gridcolor": "white",
             "linecolor": "white",
             "minorgridcolor": "white",
             "startlinecolor": "#2a3f5f"
            },
            "type": "carpet"
           }
          ],
          "choropleth": [
           {
            "colorbar": {
             "outlinewidth": 0,
             "ticks": ""
            },
            "type": "choropleth"
           }
          ],
          "contour": [
           {
            "colorbar": {
             "outlinewidth": 0,
             "ticks": ""
            },
            "colorscale": [
             [
              0,
              "#0d0887"
             ],
             [
              0.1111111111111111,
              "#46039f"
             ],
             [
              0.2222222222222222,
              "#7201a8"
             ],
             [
              0.3333333333333333,
              "#9c179e"
             ],
             [
              0.4444444444444444,
              "#bd3786"
             ],
             [
              0.5555555555555556,
              "#d8576b"
             ],
             [
              0.6666666666666666,
              "#ed7953"
             ],
             [
              0.7777777777777778,
              "#fb9f3a"
             ],
             [
              0.8888888888888888,
              "#fdca26"
             ],
             [
              1,
              "#f0f921"
             ]
            ],
            "type": "contour"
           }
          ],
          "contourcarpet": [
           {
            "colorbar": {
             "outlinewidth": 0,
             "ticks": ""
            },
            "type": "contourcarpet"
           }
          ],
          "heatmap": [
           {
            "colorbar": {
             "outlinewidth": 0,
             "ticks": ""
            },
            "colorscale": [
             [
              0,
              "#0d0887"
             ],
             [
              0.1111111111111111,
              "#46039f"
             ],
             [
              0.2222222222222222,
              "#7201a8"
             ],
             [
              0.3333333333333333,
              "#9c179e"
             ],
             [
              0.4444444444444444,
              "#bd3786"
             ],
             [
              0.5555555555555556,
              "#d8576b"
             ],
             [
              0.6666666666666666,
              "#ed7953"
             ],
             [
              0.7777777777777778,
              "#fb9f3a"
             ],
             [
              0.8888888888888888,
              "#fdca26"
             ],
             [
              1,
              "#f0f921"
             ]
            ],
            "type": "heatmap"
           }
          ],
          "heatmapgl": [
           {
            "colorbar": {
             "outlinewidth": 0,
             "ticks": ""
            },
            "colorscale": [
             [
              0,
              "#0d0887"
             ],
             [
              0.1111111111111111,
              "#46039f"
             ],
             [
              0.2222222222222222,
              "#7201a8"
             ],
             [
              0.3333333333333333,
              "#9c179e"
             ],
             [
              0.4444444444444444,
              "#bd3786"
             ],
             [
              0.5555555555555556,
              "#d8576b"
             ],
             [
              0.6666666666666666,
              "#ed7953"
             ],
             [
              0.7777777777777778,
              "#fb9f3a"
             ],
             [
              0.8888888888888888,
              "#fdca26"
             ],
             [
              1,
              "#f0f921"
             ]
            ],
            "type": "heatmapgl"
           }
          ],
          "histogram": [
           {
            "marker": {
             "pattern": {
              "fillmode": "overlay",
              "size": 10,
              "solidity": 0.2
             }
            },
            "type": "histogram"
           }
          ],
          "histogram2d": [
           {
            "colorbar": {
             "outlinewidth": 0,
             "ticks": ""
            },
            "colorscale": [
             [
              0,
              "#0d0887"
             ],
             [
              0.1111111111111111,
              "#46039f"
             ],
             [
              0.2222222222222222,
              "#7201a8"
             ],
             [
              0.3333333333333333,
              "#9c179e"
             ],
             [
              0.4444444444444444,
              "#bd3786"
             ],
             [
              0.5555555555555556,
              "#d8576b"
             ],
             [
              0.6666666666666666,
              "#ed7953"
             ],
             [
              0.7777777777777778,
              "#fb9f3a"
             ],
             [
              0.8888888888888888,
              "#fdca26"
             ],
             [
              1,
              "#f0f921"
             ]
            ],
            "type": "histogram2d"
           }
          ],
          "histogram2dcontour": [
           {
            "colorbar": {
             "outlinewidth": 0,
             "ticks": ""
            },
            "colorscale": [
             [
              0,
              "#0d0887"
             ],
             [
              0.1111111111111111,
              "#46039f"
             ],
             [
              0.2222222222222222,
              "#7201a8"
             ],
             [
              0.3333333333333333,
              "#9c179e"
             ],
             [
              0.4444444444444444,
              "#bd3786"
             ],
             [
              0.5555555555555556,
              "#d8576b"
             ],
             [
              0.6666666666666666,
              "#ed7953"
             ],
             [
              0.7777777777777778,
              "#fb9f3a"
             ],
             [
              0.8888888888888888,
              "#fdca26"
             ],
             [
              1,
              "#f0f921"
             ]
            ],
            "type": "histogram2dcontour"
           }
          ],
          "mesh3d": [
           {
            "colorbar": {
             "outlinewidth": 0,
             "ticks": ""
            },
            "type": "mesh3d"
           }
          ],
          "parcoords": [
           {
            "line": {
             "colorbar": {
              "outlinewidth": 0,
              "ticks": ""
             }
            },
            "type": "parcoords"
           }
          ],
          "pie": [
           {
            "automargin": true,
            "type": "pie"
           }
          ],
          "scatter": [
           {
            "fillpattern": {
             "fillmode": "overlay",
             "size": 10,
             "solidity": 0.2
            },
            "type": "scatter"
           }
          ],
          "scatter3d": [
           {
            "line": {
             "colorbar": {
              "outlinewidth": 0,
              "ticks": ""
             }
            },
            "marker": {
             "colorbar": {
              "outlinewidth": 0,
              "ticks": ""
             }
            },
            "type": "scatter3d"
           }
          ],
          "scattercarpet": [
           {
            "marker": {
             "colorbar": {
              "outlinewidth": 0,
              "ticks": ""
             }
            },
            "type": "scattercarpet"
           }
          ],
          "scattergeo": [
           {
            "marker": {
             "colorbar": {
              "outlinewidth": 0,
              "ticks": ""
             }
            },
            "type": "scattergeo"
           }
          ],
          "scattergl": [
           {
            "marker": {
             "colorbar": {
              "outlinewidth": 0,
              "ticks": ""
             }
            },
            "type": "scattergl"
           }
          ],
          "scattermapbox": [
           {
            "marker": {
             "colorbar": {
              "outlinewidth": 0,
              "ticks": ""
             }
            },
            "type": "scattermapbox"
           }
          ],
          "scatterpolar": [
           {
            "marker": {
             "colorbar": {
              "outlinewidth": 0,
              "ticks": ""
             }
            },
            "type": "scatterpolar"
           }
          ],
          "scatterpolargl": [
           {
            "marker": {
             "colorbar": {
              "outlinewidth": 0,
              "ticks": ""
             }
            },
            "type": "scatterpolargl"
           }
          ],
          "scatterternary": [
           {
            "marker": {
             "colorbar": {
              "outlinewidth": 0,
              "ticks": ""
             }
            },
            "type": "scatterternary"
           }
          ],
          "surface": [
           {
            "colorbar": {
             "outlinewidth": 0,
             "ticks": ""
            },
            "colorscale": [
             [
              0,
              "#0d0887"
             ],
             [
              0.1111111111111111,
              "#46039f"
             ],
             [
              0.2222222222222222,
              "#7201a8"
             ],
             [
              0.3333333333333333,
              "#9c179e"
             ],
             [
              0.4444444444444444,
              "#bd3786"
             ],
             [
              0.5555555555555556,
              "#d8576b"
             ],
             [
              0.6666666666666666,
              "#ed7953"
             ],
             [
              0.7777777777777778,
              "#fb9f3a"
             ],
             [
              0.8888888888888888,
              "#fdca26"
             ],
             [
              1,
              "#f0f921"
             ]
            ],
            "type": "surface"
           }
          ],
          "table": [
           {
            "cells": {
             "fill": {
              "color": "#EBF0F8"
             },
             "line": {
              "color": "white"
             }
            },
            "header": {
             "fill": {
              "color": "#C8D4E3"
             },
             "line": {
              "color": "white"
             }
            },
            "type": "table"
           }
          ]
         },
         "layout": {
          "annotationdefaults": {
           "arrowcolor": "#2a3f5f",
           "arrowhead": 0,
           "arrowwidth": 1
          },
          "autotypenumbers": "strict",
          "coloraxis": {
           "colorbar": {
            "outlinewidth": 0,
            "ticks": ""
           }
          },
          "colorscale": {
           "diverging": [
            [
             0,
             "#8e0152"
            ],
            [
             0.1,
             "#c51b7d"
            ],
            [
             0.2,
             "#de77ae"
            ],
            [
             0.3,
             "#f1b6da"
            ],
            [
             0.4,
             "#fde0ef"
            ],
            [
             0.5,
             "#f7f7f7"
            ],
            [
             0.6,
             "#e6f5d0"
            ],
            [
             0.7,
             "#b8e186"
            ],
            [
             0.8,
             "#7fbc41"
            ],
            [
             0.9,
             "#4d9221"
            ],
            [
             1,
             "#276419"
            ]
           ],
           "sequential": [
            [
             0,
             "#0d0887"
            ],
            [
             0.1111111111111111,
             "#46039f"
            ],
            [
             0.2222222222222222,
             "#7201a8"
            ],
            [
             0.3333333333333333,
             "#9c179e"
            ],
            [
             0.4444444444444444,
             "#bd3786"
            ],
            [
             0.5555555555555556,
             "#d8576b"
            ],
            [
             0.6666666666666666,
             "#ed7953"
            ],
            [
             0.7777777777777778,
             "#fb9f3a"
            ],
            [
             0.8888888888888888,
             "#fdca26"
            ],
            [
             1,
             "#f0f921"
            ]
           ],
           "sequentialminus": [
            [
             0,
             "#0d0887"
            ],
            [
             0.1111111111111111,
             "#46039f"
            ],
            [
             0.2222222222222222,
             "#7201a8"
            ],
            [
             0.3333333333333333,
             "#9c179e"
            ],
            [
             0.4444444444444444,
             "#bd3786"
            ],
            [
             0.5555555555555556,
             "#d8576b"
            ],
            [
             0.6666666666666666,
             "#ed7953"
            ],
            [
             0.7777777777777778,
             "#fb9f3a"
            ],
            [
             0.8888888888888888,
             "#fdca26"
            ],
            [
             1,
             "#f0f921"
            ]
           ]
          },
          "colorway": [
           "#636efa",
           "#EF553B",
           "#00cc96",
           "#ab63fa",
           "#FFA15A",
           "#19d3f3",
           "#FF6692",
           "#B6E880",
           "#FF97FF",
           "#FECB52"
          ],
          "font": {
           "color": "#2a3f5f"
          },
          "geo": {
           "bgcolor": "white",
           "lakecolor": "white",
           "landcolor": "#E5ECF6",
           "showlakes": true,
           "showland": true,
           "subunitcolor": "white"
          },
          "hoverlabel": {
           "align": "left"
          },
          "hovermode": "closest",
          "mapbox": {
           "style": "light"
          },
          "paper_bgcolor": "white",
          "plot_bgcolor": "#E5ECF6",
          "polar": {
           "angularaxis": {
            "gridcolor": "white",
            "linecolor": "white",
            "ticks": ""
           },
           "bgcolor": "#E5ECF6",
           "radialaxis": {
            "gridcolor": "white",
            "linecolor": "white",
            "ticks": ""
           }
          },
          "scene": {
           "xaxis": {
            "backgroundcolor": "#E5ECF6",
            "gridcolor": "white",
            "gridwidth": 2,
            "linecolor": "white",
            "showbackground": true,
            "ticks": "",
            "zerolinecolor": "white"
           },
           "yaxis": {
            "backgroundcolor": "#E5ECF6",
            "gridcolor": "white",
            "gridwidth": 2,
            "linecolor": "white",
            "showbackground": true,
            "ticks": "",
            "zerolinecolor": "white"
           },
           "zaxis": {
            "backgroundcolor": "#E5ECF6",
            "gridcolor": "white",
            "gridwidth": 2,
            "linecolor": "white",
            "showbackground": true,
            "ticks": "",
            "zerolinecolor": "white"
           }
          },
          "shapedefaults": {
           "line": {
            "color": "#2a3f5f"
           }
          },
          "ternary": {
           "aaxis": {
            "gridcolor": "white",
            "linecolor": "white",
            "ticks": ""
           },
           "baxis": {
            "gridcolor": "white",
            "linecolor": "white",
            "ticks": ""
           },
           "bgcolor": "#E5ECF6",
           "caxis": {
            "gridcolor": "white",
            "linecolor": "white",
            "ticks": ""
           }
          },
          "title": {
           "x": 0.05
          },
          "xaxis": {
           "automargin": true,
           "gridcolor": "white",
           "linecolor": "white",
           "ticks": "",
           "title": {
            "standoff": 15
           },
           "zerolinecolor": "white",
           "zerolinewidth": 2
          },
          "yaxis": {
           "automargin": true,
           "gridcolor": "white",
           "linecolor": "white",
           "ticks": "",
           "title": {
            "standoff": 15
           },
           "zerolinecolor": "white",
           "zerolinewidth": 2
          }
         }
        },
        "title": {
         "text": "Scatterplot Matrix"
        },
        "width": 800,
        "xaxis": {
         "anchor": "y",
         "domain": [
          0,
          0.2125
         ]
        },
        "xaxis10": {
         "anchor": "y10",
         "domain": [
          0.2625,
          0.475
         ]
        },
        "xaxis11": {
         "anchor": "y11",
         "domain": [
          0.525,
          0.7375
         ]
        },
        "xaxis12": {
         "anchor": "y12",
         "domain": [
          0.7875,
          1
         ]
        },
        "xaxis13": {
         "anchor": "y13",
         "domain": [
          0,
          0.2125
         ],
         "title": {
          "text": "R&D Spend"
         }
        },
        "xaxis14": {
         "anchor": "y14",
         "domain": [
          0.2625,
          0.475
         ],
         "title": {
          "text": "Administration"
         }
        },
        "xaxis15": {
         "anchor": "y15",
         "domain": [
          0.525,
          0.7375
         ],
         "title": {
          "text": "Marketing Spend"
         }
        },
        "xaxis16": {
         "anchor": "y16",
         "domain": [
          0.7875,
          1
         ],
         "title": {
          "text": "State"
         }
        },
        "xaxis2": {
         "anchor": "y2",
         "domain": [
          0.2625,
          0.475
         ]
        },
        "xaxis3": {
         "anchor": "y3",
         "domain": [
          0.525,
          0.7375
         ]
        },
        "xaxis4": {
         "anchor": "y4",
         "domain": [
          0.7875,
          1
         ]
        },
        "xaxis5": {
         "anchor": "y5",
         "domain": [
          0,
          0.2125
         ]
        },
        "xaxis6": {
         "anchor": "y6",
         "domain": [
          0.2625,
          0.475
         ]
        },
        "xaxis7": {
         "anchor": "y7",
         "domain": [
          0.525,
          0.7375
         ]
        },
        "xaxis8": {
         "anchor": "y8",
         "domain": [
          0.7875,
          1
         ]
        },
        "xaxis9": {
         "anchor": "y9",
         "domain": [
          0,
          0.2125
         ]
        },
        "yaxis": {
         "anchor": "x",
         "domain": [
          0.80625,
          1
         ],
         "title": {
          "text": "R&D Spend"
         }
        },
        "yaxis10": {
         "anchor": "x10",
         "domain": [
          0.26875,
          0.4625
         ]
        },
        "yaxis11": {
         "anchor": "x11",
         "domain": [
          0.26875,
          0.4625
         ]
        },
        "yaxis12": {
         "anchor": "x12",
         "domain": [
          0.26875,
          0.4625
         ]
        },
        "yaxis13": {
         "anchor": "x13",
         "domain": [
          0,
          0.19375
         ],
         "title": {
          "text": "State"
         }
        },
        "yaxis14": {
         "anchor": "x14",
         "domain": [
          0,
          0.19375
         ]
        },
        "yaxis15": {
         "anchor": "x15",
         "domain": [
          0,
          0.19375
         ]
        },
        "yaxis16": {
         "anchor": "x16",
         "domain": [
          0,
          0.19375
         ]
        },
        "yaxis2": {
         "anchor": "x2",
         "domain": [
          0.80625,
          1
         ]
        },
        "yaxis3": {
         "anchor": "x3",
         "domain": [
          0.80625,
          1
         ]
        },
        "yaxis4": {
         "anchor": "x4",
         "domain": [
          0.80625,
          1
         ]
        },
        "yaxis5": {
         "anchor": "x5",
         "domain": [
          0.5375,
          0.73125
         ],
         "title": {
          "text": "Administration"
         }
        },
        "yaxis6": {
         "anchor": "x6",
         "domain": [
          0.5375,
          0.73125
         ]
        },
        "yaxis7": {
         "anchor": "x7",
         "domain": [
          0.5375,
          0.73125
         ]
        },
        "yaxis8": {
         "anchor": "x8",
         "domain": [
          0.5375,
          0.73125
         ]
        },
        "yaxis9": {
         "anchor": "x9",
         "domain": [
          0.26875,
          0.4625
         ],
         "title": {
          "text": "Marketing Spend"
         }
        }
       }
      }
     },
     "metadata": {},
     "output_type": "display_data"
    }
   ],
   "source": [
    "import plotly.figure_factory as ff\n",
    "fig = ff.create_scatterplotmatrix(df, diag='histogram', index='Profit',\n",
    "    height=800, width=800)\n",
    "fig.show()"
   ]
  },
  {
   "cell_type": "code",
   "execution_count": 13,
   "metadata": {},
   "outputs": [
    {
     "data": {
      "application/vnd.plotly.v1+json": {
       "config": {
        "plotlyServerURL": "https://plot.ly"
       },
       "data": [
        {
         "labels": [
          "New York",
          "California",
          "Florida"
         ],
         "type": "pie",
         "values": [
          17,
          16,
          16
         ]
        }
       ],
       "layout": {
        "template": {
         "data": {
          "bar": [
           {
            "error_x": {
             "color": "#2a3f5f"
            },
            "error_y": {
             "color": "#2a3f5f"
            },
            "marker": {
             "line": {
              "color": "#E5ECF6",
              "width": 0.5
             },
             "pattern": {
              "fillmode": "overlay",
              "size": 10,
              "solidity": 0.2
             }
            },
            "type": "bar"
           }
          ],
          "barpolar": [
           {
            "marker": {
             "line": {
              "color": "#E5ECF6",
              "width": 0.5
             },
             "pattern": {
              "fillmode": "overlay",
              "size": 10,
              "solidity": 0.2
             }
            },
            "type": "barpolar"
           }
          ],
          "carpet": [
           {
            "aaxis": {
             "endlinecolor": "#2a3f5f",
             "gridcolor": "white",
             "linecolor": "white",
             "minorgridcolor": "white",
             "startlinecolor": "#2a3f5f"
            },
            "baxis": {
             "endlinecolor": "#2a3f5f",
             "gridcolor": "white",
             "linecolor": "white",
             "minorgridcolor": "white",
             "startlinecolor": "#2a3f5f"
            },
            "type": "carpet"
           }
          ],
          "choropleth": [
           {
            "colorbar": {
             "outlinewidth": 0,
             "ticks": ""
            },
            "type": "choropleth"
           }
          ],
          "contour": [
           {
            "colorbar": {
             "outlinewidth": 0,
             "ticks": ""
            },
            "colorscale": [
             [
              0,
              "#0d0887"
             ],
             [
              0.1111111111111111,
              "#46039f"
             ],
             [
              0.2222222222222222,
              "#7201a8"
             ],
             [
              0.3333333333333333,
              "#9c179e"
             ],
             [
              0.4444444444444444,
              "#bd3786"
             ],
             [
              0.5555555555555556,
              "#d8576b"
             ],
             [
              0.6666666666666666,
              "#ed7953"
             ],
             [
              0.7777777777777778,
              "#fb9f3a"
             ],
             [
              0.8888888888888888,
              "#fdca26"
             ],
             [
              1,
              "#f0f921"
             ]
            ],
            "type": "contour"
           }
          ],
          "contourcarpet": [
           {
            "colorbar": {
             "outlinewidth": 0,
             "ticks": ""
            },
            "type": "contourcarpet"
           }
          ],
          "heatmap": [
           {
            "colorbar": {
             "outlinewidth": 0,
             "ticks": ""
            },
            "colorscale": [
             [
              0,
              "#0d0887"
             ],
             [
              0.1111111111111111,
              "#46039f"
             ],
             [
              0.2222222222222222,
              "#7201a8"
             ],
             [
              0.3333333333333333,
              "#9c179e"
             ],
             [
              0.4444444444444444,
              "#bd3786"
             ],
             [
              0.5555555555555556,
              "#d8576b"
             ],
             [
              0.6666666666666666,
              "#ed7953"
             ],
             [
              0.7777777777777778,
              "#fb9f3a"
             ],
             [
              0.8888888888888888,
              "#fdca26"
             ],
             [
              1,
              "#f0f921"
             ]
            ],
            "type": "heatmap"
           }
          ],
          "heatmapgl": [
           {
            "colorbar": {
             "outlinewidth": 0,
             "ticks": ""
            },
            "colorscale": [
             [
              0,
              "#0d0887"
             ],
             [
              0.1111111111111111,
              "#46039f"
             ],
             [
              0.2222222222222222,
              "#7201a8"
             ],
             [
              0.3333333333333333,
              "#9c179e"
             ],
             [
              0.4444444444444444,
              "#bd3786"
             ],
             [
              0.5555555555555556,
              "#d8576b"
             ],
             [
              0.6666666666666666,
              "#ed7953"
             ],
             [
              0.7777777777777778,
              "#fb9f3a"
             ],
             [
              0.8888888888888888,
              "#fdca26"
             ],
             [
              1,
              "#f0f921"
             ]
            ],
            "type": "heatmapgl"
           }
          ],
          "histogram": [
           {
            "marker": {
             "pattern": {
              "fillmode": "overlay",
              "size": 10,
              "solidity": 0.2
             }
            },
            "type": "histogram"
           }
          ],
          "histogram2d": [
           {
            "colorbar": {
             "outlinewidth": 0,
             "ticks": ""
            },
            "colorscale": [
             [
              0,
              "#0d0887"
             ],
             [
              0.1111111111111111,
              "#46039f"
             ],
             [
              0.2222222222222222,
              "#7201a8"
             ],
             [
              0.3333333333333333,
              "#9c179e"
             ],
             [
              0.4444444444444444,
              "#bd3786"
             ],
             [
              0.5555555555555556,
              "#d8576b"
             ],
             [
              0.6666666666666666,
              "#ed7953"
             ],
             [
              0.7777777777777778,
              "#fb9f3a"
             ],
             [
              0.8888888888888888,
              "#fdca26"
             ],
             [
              1,
              "#f0f921"
             ]
            ],
            "type": "histogram2d"
           }
          ],
          "histogram2dcontour": [
           {
            "colorbar": {
             "outlinewidth": 0,
             "ticks": ""
            },
            "colorscale": [
             [
              0,
              "#0d0887"
             ],
             [
              0.1111111111111111,
              "#46039f"
             ],
             [
              0.2222222222222222,
              "#7201a8"
             ],
             [
              0.3333333333333333,
              "#9c179e"
             ],
             [
              0.4444444444444444,
              "#bd3786"
             ],
             [
              0.5555555555555556,
              "#d8576b"
             ],
             [
              0.6666666666666666,
              "#ed7953"
             ],
             [
              0.7777777777777778,
              "#fb9f3a"
             ],
             [
              0.8888888888888888,
              "#fdca26"
             ],
             [
              1,
              "#f0f921"
             ]
            ],
            "type": "histogram2dcontour"
           }
          ],
          "mesh3d": [
           {
            "colorbar": {
             "outlinewidth": 0,
             "ticks": ""
            },
            "type": "mesh3d"
           }
          ],
          "parcoords": [
           {
            "line": {
             "colorbar": {
              "outlinewidth": 0,
              "ticks": ""
             }
            },
            "type": "parcoords"
           }
          ],
          "pie": [
           {
            "automargin": true,
            "type": "pie"
           }
          ],
          "scatter": [
           {
            "fillpattern": {
             "fillmode": "overlay",
             "size": 10,
             "solidity": 0.2
            },
            "type": "scatter"
           }
          ],
          "scatter3d": [
           {
            "line": {
             "colorbar": {
              "outlinewidth": 0,
              "ticks": ""
             }
            },
            "marker": {
             "colorbar": {
              "outlinewidth": 0,
              "ticks": ""
             }
            },
            "type": "scatter3d"
           }
          ],
          "scattercarpet": [
           {
            "marker": {
             "colorbar": {
              "outlinewidth": 0,
              "ticks": ""
             }
            },
            "type": "scattercarpet"
           }
          ],
          "scattergeo": [
           {
            "marker": {
             "colorbar": {
              "outlinewidth": 0,
              "ticks": ""
             }
            },
            "type": "scattergeo"
           }
          ],
          "scattergl": [
           {
            "marker": {
             "colorbar": {
              "outlinewidth": 0,
              "ticks": ""
             }
            },
            "type": "scattergl"
           }
          ],
          "scattermapbox": [
           {
            "marker": {
             "colorbar": {
              "outlinewidth": 0,
              "ticks": ""
             }
            },
            "type": "scattermapbox"
           }
          ],
          "scatterpolar": [
           {
            "marker": {
             "colorbar": {
              "outlinewidth": 0,
              "ticks": ""
             }
            },
            "type": "scatterpolar"
           }
          ],
          "scatterpolargl": [
           {
            "marker": {
             "colorbar": {
              "outlinewidth": 0,
              "ticks": ""
             }
            },
            "type": "scatterpolargl"
           }
          ],
          "scatterternary": [
           {
            "marker": {
             "colorbar": {
              "outlinewidth": 0,
              "ticks": ""
             }
            },
            "type": "scatterternary"
           }
          ],
          "surface": [
           {
            "colorbar": {
             "outlinewidth": 0,
             "ticks": ""
            },
            "colorscale": [
             [
              0,
              "#0d0887"
             ],
             [
              0.1111111111111111,
              "#46039f"
             ],
             [
              0.2222222222222222,
              "#7201a8"
             ],
             [
              0.3333333333333333,
              "#9c179e"
             ],
             [
              0.4444444444444444,
              "#bd3786"
             ],
             [
              0.5555555555555556,
              "#d8576b"
             ],
             [
              0.6666666666666666,
              "#ed7953"
             ],
             [
              0.7777777777777778,
              "#fb9f3a"
             ],
             [
              0.8888888888888888,
              "#fdca26"
             ],
             [
              1,
              "#f0f921"
             ]
            ],
            "type": "surface"
           }
          ],
          "table": [
           {
            "cells": {
             "fill": {
              "color": "#EBF0F8"
             },
             "line": {
              "color": "white"
             }
            },
            "header": {
             "fill": {
              "color": "#C8D4E3"
             },
             "line": {
              "color": "white"
             }
            },
            "type": "table"
           }
          ]
         },
         "layout": {
          "annotationdefaults": {
           "arrowcolor": "#2a3f5f",
           "arrowhead": 0,
           "arrowwidth": 1
          },
          "autotypenumbers": "strict",
          "coloraxis": {
           "colorbar": {
            "outlinewidth": 0,
            "ticks": ""
           }
          },
          "colorscale": {
           "diverging": [
            [
             0,
             "#8e0152"
            ],
            [
             0.1,
             "#c51b7d"
            ],
            [
             0.2,
             "#de77ae"
            ],
            [
             0.3,
             "#f1b6da"
            ],
            [
             0.4,
             "#fde0ef"
            ],
            [
             0.5,
             "#f7f7f7"
            ],
            [
             0.6,
             "#e6f5d0"
            ],
            [
             0.7,
             "#b8e186"
            ],
            [
             0.8,
             "#7fbc41"
            ],
            [
             0.9,
             "#4d9221"
            ],
            [
             1,
             "#276419"
            ]
           ],
           "sequential": [
            [
             0,
             "#0d0887"
            ],
            [
             0.1111111111111111,
             "#46039f"
            ],
            [
             0.2222222222222222,
             "#7201a8"
            ],
            [
             0.3333333333333333,
             "#9c179e"
            ],
            [
             0.4444444444444444,
             "#bd3786"
            ],
            [
             0.5555555555555556,
             "#d8576b"
            ],
            [
             0.6666666666666666,
             "#ed7953"
            ],
            [
             0.7777777777777778,
             "#fb9f3a"
            ],
            [
             0.8888888888888888,
             "#fdca26"
            ],
            [
             1,
             "#f0f921"
            ]
           ],
           "sequentialminus": [
            [
             0,
             "#0d0887"
            ],
            [
             0.1111111111111111,
             "#46039f"
            ],
            [
             0.2222222222222222,
             "#7201a8"
            ],
            [
             0.3333333333333333,
             "#9c179e"
            ],
            [
             0.4444444444444444,
             "#bd3786"
            ],
            [
             0.5555555555555556,
             "#d8576b"
            ],
            [
             0.6666666666666666,
             "#ed7953"
            ],
            [
             0.7777777777777778,
             "#fb9f3a"
            ],
            [
             0.8888888888888888,
             "#fdca26"
            ],
            [
             1,
             "#f0f921"
            ]
           ]
          },
          "colorway": [
           "#636efa",
           "#EF553B",
           "#00cc96",
           "#ab63fa",
           "#FFA15A",
           "#19d3f3",
           "#FF6692",
           "#B6E880",
           "#FF97FF",
           "#FECB52"
          ],
          "font": {
           "color": "#2a3f5f"
          },
          "geo": {
           "bgcolor": "white",
           "lakecolor": "white",
           "landcolor": "#E5ECF6",
           "showlakes": true,
           "showland": true,
           "subunitcolor": "white"
          },
          "hoverlabel": {
           "align": "left"
          },
          "hovermode": "closest",
          "mapbox": {
           "style": "light"
          },
          "paper_bgcolor": "white",
          "plot_bgcolor": "#E5ECF6",
          "polar": {
           "angularaxis": {
            "gridcolor": "white",
            "linecolor": "white",
            "ticks": ""
           },
           "bgcolor": "#E5ECF6",
           "radialaxis": {
            "gridcolor": "white",
            "linecolor": "white",
            "ticks": ""
           }
          },
          "scene": {
           "xaxis": {
            "backgroundcolor": "#E5ECF6",
            "gridcolor": "white",
            "gridwidth": 2,
            "linecolor": "white",
            "showbackground": true,
            "ticks": "",
            "zerolinecolor": "white"
           },
           "yaxis": {
            "backgroundcolor": "#E5ECF6",
            "gridcolor": "white",
            "gridwidth": 2,
            "linecolor": "white",
            "showbackground": true,
            "ticks": "",
            "zerolinecolor": "white"
           },
           "zaxis": {
            "backgroundcolor": "#E5ECF6",
            "gridcolor": "white",
            "gridwidth": 2,
            "linecolor": "white",
            "showbackground": true,
            "ticks": "",
            "zerolinecolor": "white"
           }
          },
          "shapedefaults": {
           "line": {
            "color": "#2a3f5f"
           }
          },
          "ternary": {
           "aaxis": {
            "gridcolor": "white",
            "linecolor": "white",
            "ticks": ""
           },
           "baxis": {
            "gridcolor": "white",
            "linecolor": "white",
            "ticks": ""
           },
           "bgcolor": "#E5ECF6",
           "caxis": {
            "gridcolor": "white",
            "linecolor": "white",
            "ticks": ""
           }
          },
          "title": {
           "x": 0.05
          },
          "xaxis": {
           "automargin": true,
           "gridcolor": "white",
           "linecolor": "white",
           "ticks": "",
           "title": {
            "standoff": 15
           },
           "zerolinecolor": "white",
           "zerolinewidth": 2
          },
          "yaxis": {
           "automargin": true,
           "gridcolor": "white",
           "linecolor": "white",
           "ticks": "",
           "title": {
            "standoff": 15
           },
           "zerolinecolor": "white",
           "zerolinewidth": 2
          }
         }
        }
       }
      }
     },
     "metadata": {},
     "output_type": "display_data"
    }
   ],
   "source": [
    "import plotly.graph_objs as go\n",
    "pie_labels = df['State'].value_counts().keys()\n",
    "pie_values = df['State'].value_counts().values\n",
    "pie = go.Figure(data=[go.Pie(labels = pie_labels,values = pie_values)])\n",
    "(pie)"
   ]
  },
  {
   "cell_type": "code",
   "execution_count": 14,
   "metadata": {},
   "outputs": [],
   "source": [
    "dummy_variables = pd.get_dummies(df,columns=[\"State\"],drop_first=True)\n",
    "df = dummy_variables.apply(lambda x: x.astype(int))"
   ]
  },
  {
   "cell_type": "code",
   "execution_count": 15,
   "metadata": {},
   "outputs": [],
   "source": [
    "from sklearn.preprocessing import MinMaxScaler\n",
    "# Scale the data with `MinMaxScaler`\n",
    "scaler = MinMaxScaler()\n",
    "scaler = scaler.fit(df[[\"R&D Spend\",\"Administration\",\"Marketing Spend\"]])\n",
    "scaled = scaler.fit_transform(df[[\"R&D Spend\",\"Administration\",\"Marketing Spend\"]])\n",
    "df_scaled = pd.DataFrame(scaled,columns=[[\"R&D Spend\",\"Administration\",\"Marketing Spend\"]])"
   ]
  },
  {
   "cell_type": "code",
   "execution_count": 16,
   "metadata": {},
   "outputs": [],
   "source": [
    "X = df_scaled.copy()\n",
    "X[[\"State_Florida\",\"State_New York\"]]=df[[\"State_Florida\",\"State_New York\"]]\n",
    "y = df[\"Profit\"]"
   ]
  },
  {
   "cell_type": "code",
   "execution_count": 17,
   "metadata": {},
   "outputs": [],
   "source": [
    "from sklearn.model_selection import train_test_split\n",
    "X_train , X_test, y_train , y_test = train_test_split(X , y , test_size=0.27,random_state=0)\n"
   ]
  },
  {
   "cell_type": "code",
   "execution_count": 18,
   "metadata": {},
   "outputs": [
    {
     "data": {
      "text/html": [
       "<style>#sk-container-id-1 {color: black;}#sk-container-id-1 pre{padding: 0;}#sk-container-id-1 div.sk-toggleable {background-color: white;}#sk-container-id-1 label.sk-toggleable__label {cursor: pointer;display: block;width: 100%;margin-bottom: 0;padding: 0.3em;box-sizing: border-box;text-align: center;}#sk-container-id-1 label.sk-toggleable__label-arrow:before {content: \"▸\";float: left;margin-right: 0.25em;color: #696969;}#sk-container-id-1 label.sk-toggleable__label-arrow:hover:before {color: black;}#sk-container-id-1 div.sk-estimator:hover label.sk-toggleable__label-arrow:before {color: black;}#sk-container-id-1 div.sk-toggleable__content {max-height: 0;max-width: 0;overflow: hidden;text-align: left;background-color: #f0f8ff;}#sk-container-id-1 div.sk-toggleable__content pre {margin: 0.2em;color: black;border-radius: 0.25em;background-color: #f0f8ff;}#sk-container-id-1 input.sk-toggleable__control:checked~div.sk-toggleable__content {max-height: 200px;max-width: 100%;overflow: auto;}#sk-container-id-1 input.sk-toggleable__control:checked~label.sk-toggleable__label-arrow:before {content: \"▾\";}#sk-container-id-1 div.sk-estimator input.sk-toggleable__control:checked~label.sk-toggleable__label {background-color: #d4ebff;}#sk-container-id-1 div.sk-label input.sk-toggleable__control:checked~label.sk-toggleable__label {background-color: #d4ebff;}#sk-container-id-1 input.sk-hidden--visually {border: 0;clip: rect(1px 1px 1px 1px);clip: rect(1px, 1px, 1px, 1px);height: 1px;margin: -1px;overflow: hidden;padding: 0;position: absolute;width: 1px;}#sk-container-id-1 div.sk-estimator {font-family: monospace;background-color: #f0f8ff;border: 1px dotted black;border-radius: 0.25em;box-sizing: border-box;margin-bottom: 0.5em;}#sk-container-id-1 div.sk-estimator:hover {background-color: #d4ebff;}#sk-container-id-1 div.sk-parallel-item::after {content: \"\";width: 100%;border-bottom: 1px solid gray;flex-grow: 1;}#sk-container-id-1 div.sk-label:hover label.sk-toggleable__label {background-color: #d4ebff;}#sk-container-id-1 div.sk-serial::before {content: \"\";position: absolute;border-left: 1px solid gray;box-sizing: border-box;top: 0;bottom: 0;left: 50%;z-index: 0;}#sk-container-id-1 div.sk-serial {display: flex;flex-direction: column;align-items: center;background-color: white;padding-right: 0.2em;padding-left: 0.2em;position: relative;}#sk-container-id-1 div.sk-item {position: relative;z-index: 1;}#sk-container-id-1 div.sk-parallel {display: flex;align-items: stretch;justify-content: center;background-color: white;position: relative;}#sk-container-id-1 div.sk-item::before, #sk-container-id-1 div.sk-parallel-item::before {content: \"\";position: absolute;border-left: 1px solid gray;box-sizing: border-box;top: 0;bottom: 0;left: 50%;z-index: -1;}#sk-container-id-1 div.sk-parallel-item {display: flex;flex-direction: column;z-index: 1;position: relative;background-color: white;}#sk-container-id-1 div.sk-parallel-item:first-child::after {align-self: flex-end;width: 50%;}#sk-container-id-1 div.sk-parallel-item:last-child::after {align-self: flex-start;width: 50%;}#sk-container-id-1 div.sk-parallel-item:only-child::after {width: 0;}#sk-container-id-1 div.sk-dashed-wrapped {border: 1px dashed gray;margin: 0 0.4em 0.5em 0.4em;box-sizing: border-box;padding-bottom: 0.4em;background-color: white;}#sk-container-id-1 div.sk-label label {font-family: monospace;font-weight: bold;display: inline-block;line-height: 1.2em;}#sk-container-id-1 div.sk-label-container {text-align: center;}#sk-container-id-1 div.sk-container {/* jupyter's `normalize.less` sets `[hidden] { display: none; }` but bootstrap.min.css set `[hidden] { display: none !important; }` so we also need the `!important` here to be able to override the default hidden behavior on the sphinx rendered scikit-learn.org. See: https://github.com/scikit-learn/scikit-learn/issues/21755 */display: inline-block !important;position: relative;}#sk-container-id-1 div.sk-text-repr-fallback {display: none;}</style><div id=\"sk-container-id-1\" class=\"sk-top-container\"><div class=\"sk-text-repr-fallback\"><pre>SVR()</pre><b>In a Jupyter environment, please rerun this cell to show the HTML representation or trust the notebook. <br />On GitHub, the HTML representation is unable to render, please try loading this page with nbviewer.org.</b></div><div class=\"sk-container\" hidden><div class=\"sk-item\"><div class=\"sk-estimator sk-toggleable\"><input class=\"sk-toggleable__control sk-hidden--visually\" id=\"sk-estimator-id-1\" type=\"checkbox\" checked><label for=\"sk-estimator-id-1\" class=\"sk-toggleable__label sk-toggleable__label-arrow\">SVR</label><div class=\"sk-toggleable__content\"><pre>SVR()</pre></div></div></div></div></div>"
      ],
      "text/plain": [
       "SVR()"
      ]
     },
     "execution_count": 18,
     "metadata": {},
     "output_type": "execute_result"
    }
   ],
   "source": [
    "from sklearn.svm import SVR\n",
    "model= SVR()\n",
    "model.fit(X_train,y_train)"
   ]
  },
  {
   "cell_type": "code",
   "execution_count": 19,
   "metadata": {},
   "outputs": [
    {
     "name": "stdout",
     "output_type": "stream",
     "text": [
      "-0.005593303179491027 -0.003504347645849837\n"
     ]
    }
   ],
   "source": [
    "tranin_data_prediction = model.score(X_train,y_train)\n",
    "test_data_prediction = model.score(X_test,y_test)\n",
    "print(tranin_data_prediction,test_data_prediction)"
   ]
  },
  {
   "cell_type": "code",
   "execution_count": 20,
   "metadata": {},
   "outputs": [],
   "source": [
    "svm_param_grid = {\n",
    " \"kernel\": ['linear', 'poly', 'rbf','sigmoid'],\n",
    " \"C\": [10000,100000,200000,210000],\n",
    " \"gamma\": [10,1, 0.1, 0.01, 0.001]\n",
    "}"
   ]
  },
  {
   "cell_type": "code",
   "execution_count": 21,
   "metadata": {},
   "outputs": [],
   "source": [
    "from sklearn.model_selection import GridSearchCV\n",
    "model_cv = SVR()\n",
    "grid_search = GridSearchCV(model_cv,svm_param_grid,cv=10,n_jobs=-1,scoring=\"neg_mean_squared_error\")"
   ]
  },
  {
   "cell_type": "code",
   "execution_count": 22,
   "metadata": {},
   "outputs": [
    {
     "data": {
      "text/html": [
       "<style>#sk-container-id-2 {color: black;}#sk-container-id-2 pre{padding: 0;}#sk-container-id-2 div.sk-toggleable {background-color: white;}#sk-container-id-2 label.sk-toggleable__label {cursor: pointer;display: block;width: 100%;margin-bottom: 0;padding: 0.3em;box-sizing: border-box;text-align: center;}#sk-container-id-2 label.sk-toggleable__label-arrow:before {content: \"▸\";float: left;margin-right: 0.25em;color: #696969;}#sk-container-id-2 label.sk-toggleable__label-arrow:hover:before {color: black;}#sk-container-id-2 div.sk-estimator:hover label.sk-toggleable__label-arrow:before {color: black;}#sk-container-id-2 div.sk-toggleable__content {max-height: 0;max-width: 0;overflow: hidden;text-align: left;background-color: #f0f8ff;}#sk-container-id-2 div.sk-toggleable__content pre {margin: 0.2em;color: black;border-radius: 0.25em;background-color: #f0f8ff;}#sk-container-id-2 input.sk-toggleable__control:checked~div.sk-toggleable__content {max-height: 200px;max-width: 100%;overflow: auto;}#sk-container-id-2 input.sk-toggleable__control:checked~label.sk-toggleable__label-arrow:before {content: \"▾\";}#sk-container-id-2 div.sk-estimator input.sk-toggleable__control:checked~label.sk-toggleable__label {background-color: #d4ebff;}#sk-container-id-2 div.sk-label input.sk-toggleable__control:checked~label.sk-toggleable__label {background-color: #d4ebff;}#sk-container-id-2 input.sk-hidden--visually {border: 0;clip: rect(1px 1px 1px 1px);clip: rect(1px, 1px, 1px, 1px);height: 1px;margin: -1px;overflow: hidden;padding: 0;position: absolute;width: 1px;}#sk-container-id-2 div.sk-estimator {font-family: monospace;background-color: #f0f8ff;border: 1px dotted black;border-radius: 0.25em;box-sizing: border-box;margin-bottom: 0.5em;}#sk-container-id-2 div.sk-estimator:hover {background-color: #d4ebff;}#sk-container-id-2 div.sk-parallel-item::after {content: \"\";width: 100%;border-bottom: 1px solid gray;flex-grow: 1;}#sk-container-id-2 div.sk-label:hover label.sk-toggleable__label {background-color: #d4ebff;}#sk-container-id-2 div.sk-serial::before {content: \"\";position: absolute;border-left: 1px solid gray;box-sizing: border-box;top: 0;bottom: 0;left: 50%;z-index: 0;}#sk-container-id-2 div.sk-serial {display: flex;flex-direction: column;align-items: center;background-color: white;padding-right: 0.2em;padding-left: 0.2em;position: relative;}#sk-container-id-2 div.sk-item {position: relative;z-index: 1;}#sk-container-id-2 div.sk-parallel {display: flex;align-items: stretch;justify-content: center;background-color: white;position: relative;}#sk-container-id-2 div.sk-item::before, #sk-container-id-2 div.sk-parallel-item::before {content: \"\";position: absolute;border-left: 1px solid gray;box-sizing: border-box;top: 0;bottom: 0;left: 50%;z-index: -1;}#sk-container-id-2 div.sk-parallel-item {display: flex;flex-direction: column;z-index: 1;position: relative;background-color: white;}#sk-container-id-2 div.sk-parallel-item:first-child::after {align-self: flex-end;width: 50%;}#sk-container-id-2 div.sk-parallel-item:last-child::after {align-self: flex-start;width: 50%;}#sk-container-id-2 div.sk-parallel-item:only-child::after {width: 0;}#sk-container-id-2 div.sk-dashed-wrapped {border: 1px dashed gray;margin: 0 0.4em 0.5em 0.4em;box-sizing: border-box;padding-bottom: 0.4em;background-color: white;}#sk-container-id-2 div.sk-label label {font-family: monospace;font-weight: bold;display: inline-block;line-height: 1.2em;}#sk-container-id-2 div.sk-label-container {text-align: center;}#sk-container-id-2 div.sk-container {/* jupyter's `normalize.less` sets `[hidden] { display: none; }` but bootstrap.min.css set `[hidden] { display: none !important; }` so we also need the `!important` here to be able to override the default hidden behavior on the sphinx rendered scikit-learn.org. See: https://github.com/scikit-learn/scikit-learn/issues/21755 */display: inline-block !important;position: relative;}#sk-container-id-2 div.sk-text-repr-fallback {display: none;}</style><div id=\"sk-container-id-2\" class=\"sk-top-container\"><div class=\"sk-text-repr-fallback\"><pre>GridSearchCV(cv=10, estimator=SVR(), n_jobs=-1,\n",
       "             param_grid={&#x27;C&#x27;: [10000, 100000, 200000, 210000],\n",
       "                         &#x27;gamma&#x27;: [10, 1, 0.1, 0.01, 0.001],\n",
       "                         &#x27;kernel&#x27;: [&#x27;linear&#x27;, &#x27;poly&#x27;, &#x27;rbf&#x27;, &#x27;sigmoid&#x27;]},\n",
       "             scoring=&#x27;neg_mean_squared_error&#x27;)</pre><b>In a Jupyter environment, please rerun this cell to show the HTML representation or trust the notebook. <br />On GitHub, the HTML representation is unable to render, please try loading this page with nbviewer.org.</b></div><div class=\"sk-container\" hidden><div class=\"sk-item sk-dashed-wrapped\"><div class=\"sk-label-container\"><div class=\"sk-label sk-toggleable\"><input class=\"sk-toggleable__control sk-hidden--visually\" id=\"sk-estimator-id-2\" type=\"checkbox\" ><label for=\"sk-estimator-id-2\" class=\"sk-toggleable__label sk-toggleable__label-arrow\">GridSearchCV</label><div class=\"sk-toggleable__content\"><pre>GridSearchCV(cv=10, estimator=SVR(), n_jobs=-1,\n",
       "             param_grid={&#x27;C&#x27;: [10000, 100000, 200000, 210000],\n",
       "                         &#x27;gamma&#x27;: [10, 1, 0.1, 0.01, 0.001],\n",
       "                         &#x27;kernel&#x27;: [&#x27;linear&#x27;, &#x27;poly&#x27;, &#x27;rbf&#x27;, &#x27;sigmoid&#x27;]},\n",
       "             scoring=&#x27;neg_mean_squared_error&#x27;)</pre></div></div></div><div class=\"sk-parallel\"><div class=\"sk-parallel-item\"><div class=\"sk-item\"><div class=\"sk-label-container\"><div class=\"sk-label sk-toggleable\"><input class=\"sk-toggleable__control sk-hidden--visually\" id=\"sk-estimator-id-3\" type=\"checkbox\" ><label for=\"sk-estimator-id-3\" class=\"sk-toggleable__label sk-toggleable__label-arrow\">estimator: SVR</label><div class=\"sk-toggleable__content\"><pre>SVR()</pre></div></div></div><div class=\"sk-serial\"><div class=\"sk-item\"><div class=\"sk-estimator sk-toggleable\"><input class=\"sk-toggleable__control sk-hidden--visually\" id=\"sk-estimator-id-4\" type=\"checkbox\" ><label for=\"sk-estimator-id-4\" class=\"sk-toggleable__label sk-toggleable__label-arrow\">SVR</label><div class=\"sk-toggleable__content\"><pre>SVR()</pre></div></div></div></div></div></div></div></div></div></div>"
      ],
      "text/plain": [
       "GridSearchCV(cv=10, estimator=SVR(), n_jobs=-1,\n",
       "             param_grid={'C': [10000, 100000, 200000, 210000],\n",
       "                         'gamma': [10, 1, 0.1, 0.01, 0.001],\n",
       "                         'kernel': ['linear', 'poly', 'rbf', 'sigmoid']},\n",
       "             scoring='neg_mean_squared_error')"
      ]
     },
     "execution_count": 22,
     "metadata": {},
     "output_type": "execute_result"
    }
   ],
   "source": [
    "grid_search.fit(X_train, y_train)"
   ]
  },
  {
   "cell_type": "code",
   "execution_count": 23,
   "metadata": {},
   "outputs": [
    {
     "data": {
      "text/html": [
       "<style>#sk-container-id-3 {color: black;}#sk-container-id-3 pre{padding: 0;}#sk-container-id-3 div.sk-toggleable {background-color: white;}#sk-container-id-3 label.sk-toggleable__label {cursor: pointer;display: block;width: 100%;margin-bottom: 0;padding: 0.3em;box-sizing: border-box;text-align: center;}#sk-container-id-3 label.sk-toggleable__label-arrow:before {content: \"▸\";float: left;margin-right: 0.25em;color: #696969;}#sk-container-id-3 label.sk-toggleable__label-arrow:hover:before {color: black;}#sk-container-id-3 div.sk-estimator:hover label.sk-toggleable__label-arrow:before {color: black;}#sk-container-id-3 div.sk-toggleable__content {max-height: 0;max-width: 0;overflow: hidden;text-align: left;background-color: #f0f8ff;}#sk-container-id-3 div.sk-toggleable__content pre {margin: 0.2em;color: black;border-radius: 0.25em;background-color: #f0f8ff;}#sk-container-id-3 input.sk-toggleable__control:checked~div.sk-toggleable__content {max-height: 200px;max-width: 100%;overflow: auto;}#sk-container-id-3 input.sk-toggleable__control:checked~label.sk-toggleable__label-arrow:before {content: \"▾\";}#sk-container-id-3 div.sk-estimator input.sk-toggleable__control:checked~label.sk-toggleable__label {background-color: #d4ebff;}#sk-container-id-3 div.sk-label input.sk-toggleable__control:checked~label.sk-toggleable__label {background-color: #d4ebff;}#sk-container-id-3 input.sk-hidden--visually {border: 0;clip: rect(1px 1px 1px 1px);clip: rect(1px, 1px, 1px, 1px);height: 1px;margin: -1px;overflow: hidden;padding: 0;position: absolute;width: 1px;}#sk-container-id-3 div.sk-estimator {font-family: monospace;background-color: #f0f8ff;border: 1px dotted black;border-radius: 0.25em;box-sizing: border-box;margin-bottom: 0.5em;}#sk-container-id-3 div.sk-estimator:hover {background-color: #d4ebff;}#sk-container-id-3 div.sk-parallel-item::after {content: \"\";width: 100%;border-bottom: 1px solid gray;flex-grow: 1;}#sk-container-id-3 div.sk-label:hover label.sk-toggleable__label {background-color: #d4ebff;}#sk-container-id-3 div.sk-serial::before {content: \"\";position: absolute;border-left: 1px solid gray;box-sizing: border-box;top: 0;bottom: 0;left: 50%;z-index: 0;}#sk-container-id-3 div.sk-serial {display: flex;flex-direction: column;align-items: center;background-color: white;padding-right: 0.2em;padding-left: 0.2em;position: relative;}#sk-container-id-3 div.sk-item {position: relative;z-index: 1;}#sk-container-id-3 div.sk-parallel {display: flex;align-items: stretch;justify-content: center;background-color: white;position: relative;}#sk-container-id-3 div.sk-item::before, #sk-container-id-3 div.sk-parallel-item::before {content: \"\";position: absolute;border-left: 1px solid gray;box-sizing: border-box;top: 0;bottom: 0;left: 50%;z-index: -1;}#sk-container-id-3 div.sk-parallel-item {display: flex;flex-direction: column;z-index: 1;position: relative;background-color: white;}#sk-container-id-3 div.sk-parallel-item:first-child::after {align-self: flex-end;width: 50%;}#sk-container-id-3 div.sk-parallel-item:last-child::after {align-self: flex-start;width: 50%;}#sk-container-id-3 div.sk-parallel-item:only-child::after {width: 0;}#sk-container-id-3 div.sk-dashed-wrapped {border: 1px dashed gray;margin: 0 0.4em 0.5em 0.4em;box-sizing: border-box;padding-bottom: 0.4em;background-color: white;}#sk-container-id-3 div.sk-label label {font-family: monospace;font-weight: bold;display: inline-block;line-height: 1.2em;}#sk-container-id-3 div.sk-label-container {text-align: center;}#sk-container-id-3 div.sk-container {/* jupyter's `normalize.less` sets `[hidden] { display: none; }` but bootstrap.min.css set `[hidden] { display: none !important; }` so we also need the `!important` here to be able to override the default hidden behavior on the sphinx rendered scikit-learn.org. See: https://github.com/scikit-learn/scikit-learn/issues/21755 */display: inline-block !important;position: relative;}#sk-container-id-3 div.sk-text-repr-fallback {display: none;}</style><div id=\"sk-container-id-3\" class=\"sk-top-container\"><div class=\"sk-text-repr-fallback\"><pre>SVR(C=200000, gamma=10, kernel=&#x27;linear&#x27;)</pre><b>In a Jupyter environment, please rerun this cell to show the HTML representation or trust the notebook. <br />On GitHub, the HTML representation is unable to render, please try loading this page with nbviewer.org.</b></div><div class=\"sk-container\" hidden><div class=\"sk-item\"><div class=\"sk-estimator sk-toggleable\"><input class=\"sk-toggleable__control sk-hidden--visually\" id=\"sk-estimator-id-5\" type=\"checkbox\" checked><label for=\"sk-estimator-id-5\" class=\"sk-toggleable__label sk-toggleable__label-arrow\">SVR</label><div class=\"sk-toggleable__content\"><pre>SVR(C=200000, gamma=10, kernel=&#x27;linear&#x27;)</pre></div></div></div></div></div>"
      ],
      "text/plain": [
       "SVR(C=200000, gamma=10, kernel='linear')"
      ]
     },
     "execution_count": 23,
     "metadata": {},
     "output_type": "execute_result"
    }
   ],
   "source": [
    "grid_search.best_estimator_"
   ]
  },
  {
   "cell_type": "code",
   "execution_count": 24,
   "metadata": {},
   "outputs": [
    {
     "data": {
      "text/plain": [
       "-115671078.52030548"
      ]
     },
     "execution_count": 24,
     "metadata": {},
     "output_type": "execute_result"
    }
   ],
   "source": [
    "grid_search.best_score_"
   ]
  },
  {
   "cell_type": "code",
   "execution_count": 25,
   "metadata": {},
   "outputs": [
    {
     "name": "stdout",
     "output_type": "stream",
     "text": [
      "Test set RMSE for train: 8383.31119430714\n"
     ]
    }
   ],
   "source": [
    "from sklearn.metrics import mean_squared_error as MSE\n",
    "\n",
    "y_train_pred_tuned = grid_search.predict(X_train)\n",
    "\n",
    "rmse_train = MSE(y_train, y_train_pred_tuned)**(1/2)\n",
    "print('Test set RMSE for train: {}'.format(rmse_train))"
   ]
  },
  {
   "cell_type": "code",
   "execution_count": 26,
   "metadata": {},
   "outputs": [
    {
     "name": "stdout",
     "output_type": "stream",
     "text": [
      "Test set RMSE for test: 6197.562604257492\n"
     ]
    }
   ],
   "source": [
    "\n",
    "y_test_pred_tuned = grid_search.predict(X_test)\n",
    "\n",
    "rmse_test = MSE(y_test, y_test_pred_tuned)**(1/2)\n",
    "\n",
    "print('Test set RMSE for test: {}'.format(rmse_test))"
   ]
  },
  {
   "cell_type": "code",
   "execution_count": 27,
   "metadata": {},
   "outputs": [],
   "source": [
    "tuned_pred_train=grid_search.predict(X_train)\n",
    "train_pred=pd.DataFrame(tuned_pred_train,columns=['tahmin_edilen_kar'])"
   ]
  },
  {
   "cell_type": "code",
   "execution_count": 28,
   "metadata": {},
   "outputs": [],
   "source": [
    "train_y = pd.DataFrame(y_train.values,columns=['gerçekleşen_kar'])"
   ]
  },
  {
   "cell_type": "code",
   "execution_count": 29,
   "metadata": {},
   "outputs": [
    {
     "data": {
      "image/png": "[encoded data removed]",
      "text/plain": [
       "<Figure size 640x480 with 1 Axes>"
      ]
     },
     "metadata": {},
     "output_type": "display_data"
    }
   ],
   "source": [
    "fig,ax=plt.subplots()\n",
    "ax.plot(train_pred, label='Train Prediction')\n",
    "ax.plot(train_y, label='Train Actual')\n",
    "plt.show()"
   ]
  },
  {
   "cell_type": "code",
   "execution_count": 30,
   "metadata": {},
   "outputs": [],
   "source": [
    "tuned_pred_test=grid_search.predict(X_test)\n",
    "test_pred=pd.DataFrame(tuned_pred_test,columns=['tahmin_edilen_kar'])\n",
    "test_y = pd.DataFrame(y_test.values,columns=['gerçekleşen_kar'])"
   ]
  },
  {
   "cell_type": "code",
   "execution_count": 31,
   "metadata": {},
   "outputs": [
    {
     "data": {
      "text/plain": [
       "[<matplotlib.lines.Line2D at 0x7f4745c509d0>]"
      ]
     },
     "execution_count": 31,
     "metadata": {},
     "output_type": "execute_result"
    },
    {
     "data": {
      "image/png": "[encoded data removed]",
      "text/plain": [
       "<Figure size 640x480 with 1 Axes>"
      ]
     },
     "metadata": {},
     "output_type": "display_data"
    }
   ],
   "source": [
    "fig,ax=plt.subplots()\n",
    "ax.plot(test_pred)\n",
    "ax.plot(test_y)"
   ]
  },
  {
   "cell_type": "code",
   "execution_count": null,
   "metadata": {},
   "outputs": [],
   "source": []
  }
 ],
 "metadata": {
  "kernelspec": {
   "display_name": "Python 3",
   "language": "python",
   "name": "python3"
  },
  "language_info": {
   "codemirror_mode": {
    "name": "ipython",
    "version": 3
   },
   "file_extension": ".py",
   "mimetype": "text/x-python",
   "name": "python",
   "nbconvert_exporter": "python",
   "pygments_lexer": "ipython3",
   "version": "3.10.12"
  }
 },
 "nbformat": 4,
 "nbformat_minor": 2
}
